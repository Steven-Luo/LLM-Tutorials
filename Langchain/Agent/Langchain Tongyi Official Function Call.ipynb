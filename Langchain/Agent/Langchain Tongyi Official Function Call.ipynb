{
 "cells": [
  {
   "cell_type": "code",
   "execution_count": null,
   "id": "7f1b742e-c74d-4d7d-a294-2d4dd78f6003",
   "metadata": {
    "tags": []
   },
   "outputs": [],
   "source": [
    "%env DASHSCOPE_API_KEY=请到千问灵积官方（https://dashscope.console.aliyun.com/apiKey）申请免费Key，并替换为自己的\n",
    "%env TAVILY_API_KEY=请到Tavily官方（https://app.tavily.com/）申请免费Key，并替换为自己的\n",
    "%env AMAP_API_KEY=请到高德开发者中心（https://console.amap.com/dev/index），申请免费key，并替换为自己的"
   ]
  },
  {
   "cell_type": "code",
   "execution_count": 12,
   "id": "627284e3-6673-4153-8184-e01dc5b5f068",
   "metadata": {
    "execution": {
     "iopub.execute_input": "2024-06-09T08:21:47.783966Z",
     "iopub.status.busy": "2024-06-09T08:21:47.783109Z",
     "iopub.status.idle": "2024-06-09T08:21:55.307924Z",
     "shell.execute_reply": "2024-06-09T08:21:55.307482Z",
     "shell.execute_reply.started": "2024-06-09T08:21:47.783912Z"
    },
    "tags": []
   },
   "outputs": [],
   "source": [
    "!pip install -qU dashscope"
   ]
  },
  {
   "cell_type": "code",
   "execution_count": 13,
   "id": "f904a8db-9717-4526-bcc8-f61e506d520a",
   "metadata": {
    "execution": {
     "iopub.execute_input": "2024-06-09T08:21:56.047537Z",
     "iopub.status.busy": "2024-06-09T08:21:56.046974Z",
     "iopub.status.idle": "2024-06-09T08:21:56.143879Z",
     "shell.execute_reply": "2024-06-09T08:21:56.143566Z",
     "shell.execute_reply.started": "2024-06-09T08:21:56.047493Z"
    },
    "tags": []
   },
   "outputs": [
    {
     "name": "stdout",
     "output_type": "stream",
     "text": [
      "langchain           \t0.2.3\n",
      "langchain_core      \t0.2.5\n",
      "langchain_community \t0.2.1\n"
     ]
    }
   ],
   "source": [
    "import langchain, langchain_core, langchain_community, dashscope\n",
    "\n",
    "for module in (langchain, langchain_core, langchain_community, dashscope):\n",
    "    if hasattr(module, '__version__'):\n",
    "        print(f\"{module.__name__:<20}\\t{module.__version__}\")"
   ]
  },
  {
   "cell_type": "code",
   "execution_count": 14,
   "id": "94e12fe2-995d-4f1f-89b3-b30c8bb9bd89",
   "metadata": {
    "execution": {
     "iopub.execute_input": "2024-06-09T08:22:00.505972Z",
     "iopub.status.busy": "2024-06-09T08:22:00.496325Z",
     "iopub.status.idle": "2024-06-09T08:22:01.698184Z",
     "shell.execute_reply": "2024-06-09T08:22:01.697644Z",
     "shell.execute_reply.started": "2024-06-09T08:22:00.505878Z"
    },
    "tags": []
   },
   "outputs": [
    {
     "name": "stdout",
     "output_type": "stream",
     "text": [
      "dashscope                                1.19.2\n"
     ]
    }
   ],
   "source": [
    "!pip list | grep -i dashscope"
   ]
  },
  {
   "cell_type": "markdown",
   "id": "ebd7c6aa-c46e-45a0-b481-095bc61d4d7a",
   "metadata": {},
   "source": [
    "# 绑定工具"
   ]
  },
  {
   "cell_type": "code",
   "execution_count": 15,
   "id": "4532496b-7711-47e6-8f56-9d8feb756ad7",
   "metadata": {
    "execution": {
     "iopub.execute_input": "2024-06-09T08:23:19.311376Z",
     "iopub.status.busy": "2024-06-09T08:23:19.310856Z",
     "iopub.status.idle": "2024-06-09T08:23:19.333176Z",
     "shell.execute_reply": "2024-06-09T08:23:19.332864Z",
     "shell.execute_reply.started": "2024-06-09T08:23:19.311318Z"
    },
    "tags": []
   },
   "outputs": [],
   "source": [
    "import os\n",
    "from langchain_community.chat_models.tongyi import ChatTongyi\n",
    "from langchain_core.tools import tool"
   ]
  },
  {
   "cell_type": "markdown",
   "id": "ae387cc8-c83f-45b8-b8cd-47844ae9c2e6",
   "metadata": {},
   "source": [
    "使用通义千问官方API"
   ]
  },
  {
   "cell_type": "code",
   "execution_count": 61,
   "id": "bdcf1301-af81-42c7-9c9e-bb7c6e857838",
   "metadata": {
    "execution": {
     "iopub.execute_input": "2024-06-09T13:22:14.898303Z",
     "iopub.status.busy": "2024-06-09T13:22:14.897949Z",
     "iopub.status.idle": "2024-06-09T13:22:14.909551Z",
     "shell.execute_reply": "2024-06-09T13:22:14.909055Z",
     "shell.execute_reply.started": "2024-06-09T13:22:14.898284Z"
    },
    "tags": []
   },
   "outputs": [],
   "source": [
    "model = ChatTongyi(model='qwen-turbo')"
   ]
  },
  {
   "cell_type": "markdown",
   "id": "780d74ec-760f-4c48-b2fd-e23314948f97",
   "metadata": {},
   "source": [
    "工具定义及工具绑定"
   ]
  },
  {
   "cell_type": "code",
   "execution_count": 69,
   "id": "897926c3-bf38-4d3a-aea0-63782c1b1d4e",
   "metadata": {
    "execution": {
     "iopub.execute_input": "2024-06-09T13:22:42.032040Z",
     "iopub.status.busy": "2024-06-09T13:22:42.031528Z",
     "iopub.status.idle": "2024-06-09T13:22:42.049183Z",
     "shell.execute_reply": "2024-06-09T13:22:42.048658Z",
     "shell.execute_reply.started": "2024-06-09T13:22:42.032015Z"
    },
    "tags": []
   },
   "outputs": [],
   "source": [
    "def search_web(query, k=5):\n",
    "    import os\n",
    "    from langchain_community.retrievers import TavilySearchAPIRetriever\n",
    "    \n",
    "    retriever = TavilySearchAPIRetriever(k=5)\n",
    "    documents = retriever.invoke(query)\n",
    "    # return [{'title': doc.metadata['title'], 'abstract': doc.page_content, 'href': doc.metadata['source'], 'score': doc.metadata['score']} for doc in\n",
    "    #         documents]\n",
    "    content = '\\n\\n'.join([doc.page_content for doc in documents])\n",
    "    prompt = f\"\"\"请将下面这段内容（<<<content>>><<</content>>>包裹的部分）进行总结：\n",
    "<<<content>>>\n",
    "{content}\n",
    "<<</content>>>\n",
    "\"\"\"\n",
    "    print('prompt:')\n",
    "    print(prompt)\n",
    "    \n",
    "    return model.invoke(prompt).content\n",
    "    \n",
    "\n",
    "def get_current_weather(city):\n",
    "    import requests\n",
    "    from datetime import datetime\n",
    "    import os\n",
    "    \n",
    "    amap_api_key = os.environ['AMAP_API_KEY']\n",
    "    url = f'https://restapi.amap.com/v3/config/district?keywords={city}&key={amap_api_key}'\n",
    "    resp = requests.get(url)\n",
    "    # print('行政区划：')\n",
    "    # print(resp.json())\n",
    "    \n",
    "    adcode = resp.json()['districts'][0]['adcode']\n",
    "    # adcode = '110000'\n",
    "\n",
    "    url = f'https://restapi.amap.com/v3/weather/weatherInfo?city={adcode}&key={amap_api_key}&extensions=base'\n",
    "    resp = requests.get(url)\n",
    "    \"\"\"\n",
    "    {'province': '北京',\n",
    "     'city': '北京市',\n",
    "     'adcode': '110000',\n",
    "     'weather': '晴',\n",
    "     'temperature': '26',\n",
    "     'winddirection': '西北',\n",
    "     'windpower': '4',\n",
    "     'humidity': '20',\n",
    "     'reporttime': '2024-05-26 13:38:38',\n",
    "     'temperature_float': '26.0',\n",
    "     'humidity_float': '20.0'}\n",
    "    \"\"\"\n",
    "    # print('天气：')\n",
    "    # print(resp.json())\n",
    "    weather_json = resp.json()['lives'][0]\n",
    "    return f\"{weather_json['city']}{datetime.strptime(weather_json['reporttime'], '%Y-%m-%d %H:%M:%S').strftime('%m月%d日')}{weather_json['weather']}，气温{weather_json['temperature']}摄氏度，{weather_json['winddirection']}风{weather_json['windpower']}级\"\n",
    "    \n",
    "    \n",
    "fn_map = {\n",
    "    'get_current_weather': get_current_weather,\n",
    "    'search_web': search_web\n",
    "}\n",
    "\n",
    "llm_with_tool = model.bind_tools(\n",
    "    tools=[\n",
    "        {\n",
    "            \"name\": \"get_current_weather\",\n",
    "            \"description\": \"根据城市名获取天气\",\n",
    "            \"parameters\": {\n",
    "                \"type\": \"object\",\n",
    "                \"properties\": {\n",
    "                    \"city\": {\n",
    "                        \"type\": \"string\",\n",
    "                        \"description\": \"城市名，例如北京\"\n",
    "                    }\n",
    "                },\n",
    "                \"required\": [\"city\"]\n",
    "            }\n",
    "        },\n",
    "        {\n",
    "            \"name\": \"search_web\",\n",
    "            \"description\": \"当有不知道或不确定的信息时，搜索互联网\",\n",
    "            \"parameters\": {\n",
    "                \"type\": \"object\",\n",
    "                \"properties\": {\n",
    "                    \"query\": {\n",
    "                        \"type\": \"string\",\n",
    "                        \"description\": \"要搜素的内容\"\n",
    "                    }\n",
    "                },\n",
    "                \"required\": [\"query\"]\n",
    "            }\n",
    "        },\n",
    "    ]\n",
    ")"
   ]
  },
  {
   "cell_type": "markdown",
   "id": "208efd3a-058e-497b-a889-8af9d7bbc459",
   "metadata": {},
   "source": [
    "# 使用工具"
   ]
  },
  {
   "cell_type": "markdown",
   "id": "112265da-9709-4540-bec4-810f0e6b1423",
   "metadata": {},
   "source": [
    "## 天气查询"
   ]
  },
  {
   "cell_type": "code",
   "execution_count": 63,
   "id": "d1f268cd-3d9b-4f1d-9f34-b849fa539b46",
   "metadata": {
    "execution": {
     "iopub.execute_input": "2024-06-09T13:22:16.462595Z",
     "iopub.status.busy": "2024-06-09T13:22:16.461926Z",
     "iopub.status.idle": "2024-06-09T13:22:18.061570Z",
     "shell.execute_reply": "2024-06-09T13:22:18.060481Z",
     "shell.execute_reply.started": "2024-06-09T13:22:16.462555Z"
    },
    "tags": []
   },
   "outputs": [],
   "source": [
    "from langchain_core.messages import HumanMessage\n",
    "import json\n",
    "\n",
    "ai_msg = llm_with_tool.invoke(\"北京今天的天气怎么样\")\n",
    "fn_name = ai_msg.additional_kwargs['tool_calls'][0]['function']['name']\n",
    "kwargs = json.loads(ai_msg.additional_kwargs['tool_calls'][0]['function']['arguments'])"
   ]
  },
  {
   "cell_type": "code",
   "execution_count": 64,
   "id": "8739331e-64ff-449c-a81a-3c5ee9f5a11e",
   "metadata": {
    "execution": {
     "iopub.execute_input": "2024-06-09T13:22:18.065514Z",
     "iopub.status.busy": "2024-06-09T13:22:18.064764Z",
     "iopub.status.idle": "2024-06-09T13:22:18.074685Z",
     "shell.execute_reply": "2024-06-09T13:22:18.073963Z",
     "shell.execute_reply.started": "2024-06-09T13:22:18.065475Z"
    },
    "tags": []
   },
   "outputs": [
    {
     "data": {
      "text/plain": [
       "AIMessage(content='', additional_kwargs={'tool_calls': [{'function': {'name': 'get_current_weather', 'arguments': '{\"city\": \"北京\"}'}, 'id': '', 'type': 'function'}]}, response_metadata={'model_name': 'qwen-turbo', 'finish_reason': 'tool_calls', 'request_id': '323072e8-af31-9696-9366-8f0092fcef38', 'token_usage': {'input_tokens': 255, 'output_tokens': 18, 'total_tokens': 273}}, id='run-5cd79a87-9804-444f-b20c-643ddd47edcb-0', tool_calls=[{'name': 'get_current_weather', 'args': {'city': '北京'}, 'id': ''}])"
      ]
     },
     "execution_count": 64,
     "metadata": {},
     "output_type": "execute_result"
    }
   ],
   "source": [
    "ai_msg"
   ]
  },
  {
   "cell_type": "markdown",
   "id": "9ea929fa-20be-4da1-9d8f-0db40cf9af9f",
   "metadata": {},
   "source": [
    "从结果看，触发函数调用了"
   ]
  },
  {
   "cell_type": "code",
   "execution_count": 66,
   "id": "476ef925-347b-4d69-a0b1-0f10a850f221",
   "metadata": {
    "execution": {
     "iopub.execute_input": "2024-06-09T13:22:30.304532Z",
     "iopub.status.busy": "2024-06-09T13:22:30.303412Z",
     "iopub.status.idle": "2024-06-09T13:22:30.312866Z",
     "shell.execute_reply": "2024-06-09T13:22:30.312228Z",
     "shell.execute_reply.started": "2024-06-09T13:22:30.304486Z"
    },
    "tags": []
   },
   "outputs": [
    {
     "data": {
      "text/plain": [
       "{'tool_calls': [{'function': {'name': 'get_current_weather',\n",
       "    'arguments': '{\"city\": \"北京\"}'},\n",
       "   'id': '',\n",
       "   'type': 'function'}]}"
      ]
     },
     "execution_count": 66,
     "metadata": {},
     "output_type": "execute_result"
    }
   ],
   "source": [
    "ai_msg.additional_kwargs"
   ]
  },
  {
   "cell_type": "code",
   "execution_count": 70,
   "id": "36a1fe9b-83c4-4c08-b9f1-e77d30864ef7",
   "metadata": {
    "execution": {
     "iopub.execute_input": "2024-06-09T13:22:44.143962Z",
     "iopub.status.busy": "2024-06-09T13:22:44.143429Z",
     "iopub.status.idle": "2024-06-09T13:22:44.293734Z",
     "shell.execute_reply": "2024-06-09T13:22:44.292740Z",
     "shell.execute_reply.started": "2024-06-09T13:22:44.143910Z"
    },
    "tags": []
   },
   "outputs": [
    {
     "data": {
      "text/plain": [
       "'北京市06月09日多云，气温29摄氏度，东南风≤3级'"
      ]
     },
     "execution_count": 70,
     "metadata": {},
     "output_type": "execute_result"
    }
   ],
   "source": [
    "fn_map[fn_name](**kwargs)"
   ]
  },
  {
   "cell_type": "markdown",
   "id": "59278eab-ddf7-4148-a6c2-2524b7ac039b",
   "metadata": {},
   "source": [
    "## llm_with_tool.invoke实际发送的请求"
   ]
  },
  {
   "cell_type": "markdown",
   "id": "31cbda6d-10f1-45f3-90d4-94d6cdfd3ee5",
   "metadata": {},
   "source": [
    "llm_with_tool.invoke(\"北京今天的天气怎么样\")这一句，实际在底层发送请求时，调用的是dashscope库中，dashscope/api_entities/http_request.py这个文件的_handle_request方法"
   ]
  },
  {
   "cell_type": "markdown",
   "id": "3c93ce50-e88a-41aa-a389-c72c48be3716",
   "metadata": {},
   "source": [
    "发送的是一个HTTP POST方法，具体内容如下：\n",
    "\n",
    "```json\n",
    "{\n",
    "    \"model\": \"qwen-turbo\",\n",
    "    \"parameters\": {\n",
    "        \"top_p\": 0.8,\n",
    "        \"result_format\": \"message\",\n",
    "        \"tools\": [\n",
    "            {\n",
    "                \"type\": \"function\",\n",
    "                \"function\": {\n",
    "                    \"name\": \"get_current_weather\",\n",
    "                    \"description\": \"根据城市名获取天气\",\n",
    "                    \"parameters\": {\n",
    "                        \"type\": \"object\",\n",
    "                        \"properties\": {\n",
    "                            \"city\": {\n",
    "                                \"type\": \"string\",\n",
    "                                \"description\": \"城市名，例如北京\"\n",
    "                            }\n",
    "                        },\n",
    "                        \"required\": [\n",
    "                            \"city\"\n",
    "                        ]\n",
    "                    }\n",
    "                }\n",
    "            },\n",
    "            {\n",
    "                \"type\": \"function\",\n",
    "                \"function\": {\n",
    "                    \"name\": \"search_web\",\n",
    "                    \"description\": \"当有不知道或不确定的信息时，搜索互联网\",\n",
    "                    \"parameters\": {\n",
    "                        \"type\": \"object\",\n",
    "                        \"properties\": {\n",
    "                            \"query\": {\n",
    "                                \"type\": \"string\",\n",
    "                                \"description\": \"要搜素的内容\"\n",
    "                            }\n",
    "                        },\n",
    "                        \"required\": [\n",
    "                            \"query\"\n",
    "                        ]\n",
    "                    }\n",
    "                }\n",
    "            }\n",
    "        ]\n",
    "    },\n",
    "    \"input\": {\n",
    "        \"messages\": [\n",
    "            {\n",
    "                \"role\": \"user\",\n",
    "                \"content\": \"北京今天的天气怎么样\"\n",
    "            }\n",
    "        ]\n",
    "    }\n",
    "}\n",
    "```"
   ]
  },
  {
   "cell_type": "markdown",
   "id": "2d21eab4-fea5-44bf-ad79-5094799f4dfb",
   "metadata": {},
   "source": [
    "## 网络搜索"
   ]
  },
  {
   "cell_type": "code",
   "execution_count": 71,
   "id": "34f21302-afec-4a3e-8821-2c67c14efbed",
   "metadata": {
    "execution": {
     "iopub.execute_input": "2024-06-09T13:22:55.298857Z",
     "iopub.status.busy": "2024-06-09T13:22:55.298571Z",
     "iopub.status.idle": "2024-06-09T13:22:58.100949Z",
     "shell.execute_reply": "2024-06-09T13:22:58.099772Z",
     "shell.execute_reply.started": "2024-06-09T13:22:55.298839Z"
    },
    "tags": []
   },
   "outputs": [],
   "source": [
    "ai_msg = llm_with_tool.invoke(\"庆余年2好看吗\")"
   ]
  },
  {
   "cell_type": "code",
   "execution_count": 72,
   "id": "f8466046-4086-4e79-a35b-e9c76065af0c",
   "metadata": {
    "execution": {
     "iopub.execute_input": "2024-06-09T13:22:58.118834Z",
     "iopub.status.busy": "2024-06-09T13:22:58.118416Z",
     "iopub.status.idle": "2024-06-09T13:22:58.123717Z",
     "shell.execute_reply": "2024-06-09T13:22:58.122857Z",
     "shell.execute_reply.started": "2024-06-09T13:22:58.118804Z"
    },
    "tags": []
   },
   "outputs": [
    {
     "data": {
      "text/plain": [
       "AIMessage(content='关于电视剧《庆余年2》是否好看，这是一个主观评价问题，不同观众可能有不同的看法。《庆余年》第一部在2019年播出时受到了很多好评，但第二部的消息目前还没有正式定档和发布详细的剧情介绍，所以无法直接判断它的质量。\\n\\n如果你对剧集的续集感兴趣，可以关注官方消息或者查看网上的预告片和评论，以了解大致的剧情走向和制作水平。如果你想要了解更多关于《庆余年》的详细信息或者对某个具体方面有疑问，比如演员阵容、剧情改编等，我可以帮你搜索相关资料。', response_metadata={'model_name': 'qwen-turbo', 'finish_reason': 'stop', 'request_id': 'ef1555fb-2545-9c7f-b176-5d8cab85988d', 'token_usage': {'input_tokens': 258, 'output_tokens': 128, 'total_tokens': 386}}, id='run-aa88f959-727b-45e4-b925-d19472839c65-0')"
      ]
     },
     "execution_count": 72,
     "metadata": {},
     "output_type": "execute_result"
    }
   ],
   "source": [
    "ai_msg"
   ]
  },
  {
   "cell_type": "markdown",
   "id": "8e1b5c95-173d-44eb-8146-cac7a1cc20d1",
   "metadata": {},
   "source": [
    "从结果看，并没有触发函数调用"
   ]
  },
  {
   "cell_type": "code",
   "execution_count": 73,
   "id": "45a7947c-ff29-4d6a-95c9-2a231e94837b",
   "metadata": {
    "execution": {
     "iopub.execute_input": "2024-06-09T13:23:10.549361Z",
     "iopub.status.busy": "2024-06-09T13:23:10.548150Z",
     "iopub.status.idle": "2024-06-09T13:23:11.481809Z",
     "shell.execute_reply": "2024-06-09T13:23:11.481043Z",
     "shell.execute_reply.started": "2024-06-09T13:23:10.549314Z"
    },
    "tags": []
   },
   "outputs": [],
   "source": [
    "ai_msg = llm_with_tool.invoke(\"请帮我搜索并回答庆余年2好看吗\")"
   ]
  },
  {
   "cell_type": "code",
   "execution_count": 74,
   "id": "8e7dec35-97c0-4c0a-8dd2-27e3f7356054",
   "metadata": {
    "execution": {
     "iopub.execute_input": "2024-06-09T13:23:11.483648Z",
     "iopub.status.busy": "2024-06-09T13:23:11.483011Z",
     "iopub.status.idle": "2024-06-09T13:23:11.488871Z",
     "shell.execute_reply": "2024-06-09T13:23:11.488306Z",
     "shell.execute_reply.started": "2024-06-09T13:23:11.483627Z"
    },
    "tags": []
   },
   "outputs": [
    {
     "data": {
      "text/plain": [
       "AIMessage(content='', additional_kwargs={'tool_calls': [{'function': {'name': 'search_web', 'arguments': '{\"query\": \"庆余年2 好看吗\"}'}, 'id': '', 'type': 'function'}]}, response_metadata={'model_name': 'qwen-turbo', 'finish_reason': 'tool_calls', 'request_id': 'b92aa0b6-573c-9d3a-ab8c-8c31c64fd115', 'token_usage': {'input_tokens': 263, 'output_tokens': 25, 'total_tokens': 288}}, id='run-edd276b9-deb5-4be0-bd47-d79c7797856a-0', tool_calls=[{'name': 'search_web', 'args': {'query': '庆余年2 好看吗'}, 'id': ''}])"
      ]
     },
     "execution_count": 74,
     "metadata": {},
     "output_type": "execute_result"
    }
   ],
   "source": [
    "ai_msg"
   ]
  },
  {
   "cell_type": "markdown",
   "id": "28122c1e-d161-4b07-8d80-0e6d9da41194",
   "metadata": {},
   "source": [
    "在query中显式指定需要“搜索”，成功触发函数调用"
   ]
  },
  {
   "cell_type": "code",
   "execution_count": 75,
   "id": "23b714fb-9213-4712-8914-3962bc6dde35",
   "metadata": {
    "execution": {
     "iopub.execute_input": "2024-06-09T13:24:12.981099Z",
     "iopub.status.busy": "2024-06-09T13:24:12.980466Z",
     "iopub.status.idle": "2024-06-09T13:24:12.989432Z",
     "shell.execute_reply": "2024-06-09T13:24:12.988612Z",
     "shell.execute_reply.started": "2024-06-09T13:24:12.981059Z"
    },
    "tags": []
   },
   "outputs": [],
   "source": [
    "fn_name = ai_msg.additional_kwargs['tool_calls'][0]['function']['name']\n",
    "kwargs = json.loads(ai_msg.additional_kwargs['tool_calls'][0]['function']['arguments'])"
   ]
  },
  {
   "cell_type": "code",
   "execution_count": 78,
   "id": "835a1708-ace6-4b9b-93f3-c4652c37df07",
   "metadata": {
    "execution": {
     "iopub.execute_input": "2024-06-09T13:24:21.245831Z",
     "iopub.status.busy": "2024-06-09T13:24:21.245540Z",
     "iopub.status.idle": "2024-06-09T13:24:21.253117Z",
     "shell.execute_reply": "2024-06-09T13:24:21.252345Z",
     "shell.execute_reply.started": "2024-06-09T13:24:21.245813Z"
    },
    "tags": []
   },
   "outputs": [
    {
     "data": {
      "text/plain": [
       "'search_web'"
      ]
     },
     "execution_count": 78,
     "metadata": {},
     "output_type": "execute_result"
    }
   ],
   "source": [
    "fn_name"
   ]
  },
  {
   "cell_type": "code",
   "execution_count": 77,
   "id": "437fbc20-640b-4e22-b333-8c2369670812",
   "metadata": {
    "execution": {
     "iopub.execute_input": "2024-06-09T13:24:17.882671Z",
     "iopub.status.busy": "2024-06-09T13:24:17.882141Z",
     "iopub.status.idle": "2024-06-09T13:24:17.890772Z",
     "shell.execute_reply": "2024-06-09T13:24:17.890083Z",
     "shell.execute_reply.started": "2024-06-09T13:24:17.882636Z"
    },
    "tags": []
   },
   "outputs": [
    {
     "data": {
      "text/plain": [
       "{'query': '庆余年2 好看吗'}"
      ]
     },
     "execution_count": 77,
     "metadata": {},
     "output_type": "execute_result"
    }
   ],
   "source": [
    "kwargs"
   ]
  },
  {
   "cell_type": "markdown",
   "id": "d657daef-9e2b-479b-b41f-a424e4464f72",
   "metadata": {},
   "source": [
    "从query参数来看，LLM对输入做了分词，并将其转换成了适合搜索的关键词形式"
   ]
  },
  {
   "cell_type": "markdown",
   "id": "b4eadbd8-b12c-46d8-bfe6-4d80de857705",
   "metadata": {},
   "source": [
    "调用函数"
   ]
  },
  {
   "cell_type": "code",
   "execution_count": 79,
   "id": "dcfb6d0b-d51b-435c-9ba7-f9af66baa436",
   "metadata": {
    "execution": {
     "iopub.execute_input": "2024-06-09T13:24:40.003183Z",
     "iopub.status.busy": "2024-06-09T13:24:40.001995Z",
     "iopub.status.idle": "2024-06-09T13:24:44.830237Z",
     "shell.execute_reply": "2024-06-09T13:24:44.827196Z",
     "shell.execute_reply.started": "2024-06-09T13:24:40.003138Z"
    },
    "tags": []
   },
   "outputs": [
    {
     "name": "stdout",
     "output_type": "stream",
     "text": [
      "prompt:\n",
      "请将下面这段内容（<<<content>>><<</content>>>包裹的部分）进行总结：\n",
      "<<<content>>>\n",
      "庆余年2开播这天，我给我自己放了一首《好日子》。 因为点开第一集刚看了个开头，我就知道，属于我的2019年重新杀了回来。 故事的接续感诚意十足，一点开就是张庆被催更，回扣整体的世界观，再跟随故事回到剧中，以同样的节奏同样的视角重现第一季的 ...\n",
      "\n",
      "观众的打分和评价都一针见血_腾讯新闻. 《庆余年2》第一波真实口碑出炉!. 观众的打分和评价都一针见血. 等了5年，终于等到《 庆余年2 》惊喜开播了。. 而这部剧的首播当晚排面有多大呢？. 全网热度第一，热搜前十八个都和这部剧有关系。. 这个架势，不愧 ...\n",
      "\n",
      "庆余年2开播这天，我给我自己放了一首《好日子》。 因为点开第一集刚看了个开头，我就知道，属于我的2019年重新杀了回来。 故事的接续感诚意十足，一点开就是张庆被催更，回扣整体的世界观，再跟随故事回到剧中，以同样的节奏同样的视角重现第一季的 ...\n",
      "\n",
      "等了五年，《庆余年2》让观众们看了个寂寞。 开播之前，各种宣传把这部剧说的是天花乱坠，又是原班人马全员回归，又是名场面不断。 由于第二季的体量仅有36集，因此很难不让人以为《庆余年2》的节奏很快，一定会单刀直入的开始讲第二季的情节。\n",
      "\n",
      "庆余年2前5集观后感，优缺点浅评. 1～2集：前两集不太好看，因为看庆2之前我刚把第一季精编版刷完重温了一下剧情，感觉节奏和味道都不太对，没有庆1的节奏感，剧情很平，梗多，但是信息量很低，有些水，假死剧情逻辑上来说圆得很生硬，没什么必要 ...\n",
      "<<</content>>>\n",
      "\n"
     ]
    },
    {
     "data": {
      "text/plain": [
       "'在《庆余年2》开播当天，观众的感受强烈，有人通过歌曲表达了期待和回归，认为故事有很好的接续感和世界观一致性。然而，首播时观众反馈存在一些问题，如与第一季节奏不符、剧情平淡、信息量低以及部分情节处理生硬等。尽管前期宣传热烈，实际观看体验并不完全符合期待，尤其是对于刚重温过第一季的观众来说。总体而言，首播成绩显著但具体内容存在争议。'"
      ]
     },
     "execution_count": 79,
     "metadata": {},
     "output_type": "execute_result"
    }
   ],
   "source": [
    "fn_map[fn_name](**kwargs)"
   ]
  },
  {
   "cell_type": "code",
   "execution_count": null,
   "id": "fa93d233-7d10-48d8-a8c4-f6f3b44d9544",
   "metadata": {},
   "outputs": [],
   "source": []
  }
 ],
 "metadata": {
  "kernelspec": {
   "display_name": "Python 3 (ipykernel)",
   "language": "python",
   "name": "python3"
  },
  "language_info": {
   "codemirror_mode": {
    "name": "ipython",
    "version": 3
   },
   "file_extension": ".py",
   "mimetype": "text/x-python",
   "name": "python",
   "nbconvert_exporter": "python",
   "pygments_lexer": "ipython3",
   "version": "3.11.4"
  }
 },
 "nbformat": 4,
 "nbformat_minor": 5
}
