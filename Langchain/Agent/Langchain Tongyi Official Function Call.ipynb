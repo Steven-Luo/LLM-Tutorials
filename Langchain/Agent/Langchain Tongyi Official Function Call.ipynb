{
 "cells": [
  {
   "cell_type": "code",
   "execution_count": null,
   "id": "7f1b742e-c74d-4d7d-a294-2d4dd78f6003",
   "metadata": {
    "tags": []
   },
   "outputs": [],
   "source": [
    "%env DASHSCOPE_API_KEY=请到千问灵积官方（https://dashscope.console.aliyun.com/apiKey）申请免费Key，并替换为自己的\n",
    "%env TAVILY_API_KEY=请到Tavily官方（https://app.tavily.com/）申请免费Key，并替换为自己的\n",
    "%env AMAP_API_KEY=请到高德开发者中心（https://console.amap.com/dev/index），申请免费key，并替换为自己的"
   ]
  },
  {
   "cell_type": "code",
   "execution_count": 2,
   "id": "627284e3-6673-4153-8184-e01dc5b5f068",
   "metadata": {
    "execution": {
     "iopub.execute_input": "2024-06-09T14:46:49.787392Z",
     "iopub.status.busy": "2024-06-09T14:46:49.787272Z",
     "iopub.status.idle": "2024-06-09T14:46:53.776837Z",
     "shell.execute_reply": "2024-06-09T14:46:53.776464Z",
     "shell.execute_reply.started": "2024-06-09T14:46:49.787384Z"
    },
    "tags": []
   },
   "outputs": [],
   "source": [
    "!pip install -qU dashscope"
   ]
  },
  {
   "cell_type": "code",
   "execution_count": 3,
   "id": "f904a8db-9717-4526-bcc8-f61e506d520a",
   "metadata": {
    "execution": {
     "iopub.execute_input": "2024-06-09T14:46:53.777533Z",
     "iopub.status.busy": "2024-06-09T14:46:53.777442Z",
     "iopub.status.idle": "2024-06-09T14:46:53.865507Z",
     "shell.execute_reply": "2024-06-09T14:46:53.865227Z",
     "shell.execute_reply.started": "2024-06-09T14:46:53.777522Z"
    },
    "tags": []
   },
   "outputs": [
    {
     "name": "stdout",
     "output_type": "stream",
     "text": [
      "langchain           \t0.2.3\n",
      "langchain_core      \t0.2.5\n",
      "langchain_community \t0.2.1\n"
     ]
    }
   ],
   "source": [
    "import langchain, langchain_core, langchain_community, dashscope\n",
    "\n",
    "for module in (langchain, langchain_core, langchain_community, dashscope):\n",
    "    if hasattr(module, '__version__'):\n",
    "        print(f\"{module.__name__:<20}\\t{module.__version__}\")"
   ]
  },
  {
   "cell_type": "code",
   "execution_count": 4,
   "id": "94e12fe2-995d-4f1f-89b3-b30c8bb9bd89",
   "metadata": {
    "execution": {
     "iopub.execute_input": "2024-06-09T14:46:53.866360Z",
     "iopub.status.busy": "2024-06-09T14:46:53.866183Z",
     "iopub.status.idle": "2024-06-09T14:46:54.938072Z",
     "shell.execute_reply": "2024-06-09T14:46:54.937641Z",
     "shell.execute_reply.started": "2024-06-09T14:46:53.866351Z"
    },
    "tags": []
   },
   "outputs": [
    {
     "name": "stdout",
     "output_type": "stream",
     "text": [
      "dashscope                                1.19.2\n"
     ]
    }
   ],
   "source": [
    "!pip list | grep -i dashscope"
   ]
  },
  {
   "cell_type": "markdown",
   "id": "ebd7c6aa-c46e-45a0-b481-095bc61d4d7a",
   "metadata": {},
   "source": [
    "# 绑定工具"
   ]
  },
  {
   "cell_type": "code",
   "execution_count": 5,
   "id": "4532496b-7711-47e6-8f56-9d8feb756ad7",
   "metadata": {
    "execution": {
     "iopub.execute_input": "2024-06-09T14:46:54.938795Z",
     "iopub.status.busy": "2024-06-09T14:46:54.938694Z",
     "iopub.status.idle": "2024-06-09T14:46:55.129187Z",
     "shell.execute_reply": "2024-06-09T14:46:55.128959Z",
     "shell.execute_reply.started": "2024-06-09T14:46:54.938778Z"
    },
    "tags": []
   },
   "outputs": [],
   "source": [
    "import os\n",
    "from langchain_community.chat_models.tongyi import ChatTongyi\n",
    "from langchain_core.tools import tool"
   ]
  },
  {
   "cell_type": "markdown",
   "id": "ae387cc8-c83f-45b8-b8cd-47844ae9c2e6",
   "metadata": {},
   "source": [
    "使用通义千问官方API"
   ]
  },
  {
   "cell_type": "code",
   "execution_count": 6,
   "id": "bdcf1301-af81-42c7-9c9e-bb7c6e857838",
   "metadata": {
    "execution": {
     "iopub.execute_input": "2024-06-09T14:46:55.129779Z",
     "iopub.status.busy": "2024-06-09T14:46:55.129658Z",
     "iopub.status.idle": "2024-06-09T14:46:55.133196Z",
     "shell.execute_reply": "2024-06-09T14:46:55.132539Z",
     "shell.execute_reply.started": "2024-06-09T14:46:55.129771Z"
    },
    "tags": []
   },
   "outputs": [],
   "source": [
    "model = ChatTongyi(model='qwen-turbo')"
   ]
  },
  {
   "cell_type": "markdown",
   "id": "780d74ec-760f-4c48-b2fd-e23314948f97",
   "metadata": {},
   "source": [
    "工具定义及工具绑定"
   ]
  },
  {
   "cell_type": "markdown",
   "id": "e5590ef3-fa4f-426d-833c-0d6db643122d",
   "metadata": {},
   "source": [
    "## 方法一：自定义工具声明"
   ]
  },
  {
   "cell_type": "code",
   "execution_count": 7,
   "id": "897926c3-bf38-4d3a-aea0-63782c1b1d4e",
   "metadata": {
    "execution": {
     "iopub.execute_input": "2024-06-09T14:46:55.135850Z",
     "iopub.status.busy": "2024-06-09T14:46:55.135683Z",
     "iopub.status.idle": "2024-06-09T14:46:55.140231Z",
     "shell.execute_reply": "2024-06-09T14:46:55.139836Z",
     "shell.execute_reply.started": "2024-06-09T14:46:55.135839Z"
    },
    "tags": []
   },
   "outputs": [],
   "source": [
    "def search_web(query, k=5):\n",
    "    import os\n",
    "    from langchain_community.retrievers import TavilySearchAPIRetriever\n",
    "    \n",
    "    retriever = TavilySearchAPIRetriever(k=5)\n",
    "    documents = retriever.invoke(query)\n",
    "    # return [{'title': doc.metadata['title'], 'abstract': doc.page_content, 'href': doc.metadata['source'], 'score': doc.metadata['score']} for doc in\n",
    "    #         documents]\n",
    "    content = '\\n\\n'.join([doc.page_content for doc in documents])\n",
    "    prompt = f\"\"\"请将下面这段内容（<<<content>>><<</content>>>包裹的部分）进行总结：\n",
    "<<<content>>>\n",
    "{content}\n",
    "<<</content>>>\n",
    "\"\"\"\n",
    "    print('prompt:')\n",
    "    print(prompt)\n",
    "    \n",
    "    return model.invoke(prompt).content\n",
    "    \n",
    "\n",
    "def get_current_weather(city):\n",
    "    import requests\n",
    "    from datetime import datetime\n",
    "    import os\n",
    "    \n",
    "    amap_api_key = os.environ['AMAP_API_KEY']\n",
    "    url = f'https://restapi.amap.com/v3/config/district?keywords={city}&key={amap_api_key}'\n",
    "    resp = requests.get(url)\n",
    "    # print('行政区划：')\n",
    "    # print(resp.json())\n",
    "    \n",
    "    adcode = resp.json()['districts'][0]['adcode']\n",
    "    # adcode = '110000'\n",
    "\n",
    "    url = f'https://restapi.amap.com/v3/weather/weatherInfo?city={adcode}&key={amap_api_key}&extensions=base'\n",
    "    resp = requests.get(url)\n",
    "    \"\"\"\n",
    "    {'province': '北京',\n",
    "     'city': '北京市',\n",
    "     'adcode': '110000',\n",
    "     'weather': '晴',\n",
    "     'temperature': '26',\n",
    "     'winddirection': '西北',\n",
    "     'windpower': '4',\n",
    "     'humidity': '20',\n",
    "     'reporttime': '2024-05-26 13:38:38',\n",
    "     'temperature_float': '26.0',\n",
    "     'humidity_float': '20.0'}\n",
    "    \"\"\"\n",
    "    # print('天气：')\n",
    "    # print(resp.json())\n",
    "    weather_json = resp.json()['lives'][0]\n",
    "    return f\"{weather_json['city']}{datetime.strptime(weather_json['reporttime'], '%Y-%m-%d %H:%M:%S').strftime('%m月%d日')}{weather_json['weather']}，气温{weather_json['temperature']}摄氏度，{weather_json['winddirection']}风{weather_json['windpower']}级\"\n",
    "    \n",
    "    \n",
    "fn_map = {\n",
    "    'get_current_weather': get_current_weather,\n",
    "    'search_web': search_web\n",
    "}\n",
    "tools = [\n",
    "    {\n",
    "        \"name\": \"get_current_weather\",\n",
    "        \"description\": \"根据城市名获取天气\",\n",
    "        \"parameters\": {\n",
    "            \"type\": \"object\",\n",
    "            \"properties\": {\n",
    "                \"city\": {\n",
    "                    \"type\": \"string\",\n",
    "                    \"description\": \"城市名，例如北京\"\n",
    "                }\n",
    "            },\n",
    "            \"required\": [\"city\"]\n",
    "        }\n",
    "    },\n",
    "    {\n",
    "        \"name\": \"search_web\",\n",
    "        \"description\": \"当有不知道或不确定的信息时，搜索互联网\",\n",
    "        \"parameters\": {\n",
    "            \"type\": \"object\",\n",
    "            \"properties\": {\n",
    "                \"query\": {\n",
    "                    \"type\": \"string\",\n",
    "                    \"description\": \"要搜索的内容\"\n",
    "                }\n",
    "            },\n",
    "            \"required\": [\"query\"]\n",
    "        }\n",
    "    }\n",
    "]\n",
    "\n",
    "\n",
    "llm_with_tool = model.bind_tools(\n",
    "    tools=tools\n",
    ")"
   ]
  },
  {
   "cell_type": "markdown",
   "id": "d241ab82-35e3-45ab-9c7a-be5eb844ee58",
   "metadata": {},
   "source": [
    "## 方法二：使用tool装饰器"
   ]
  },
  {
   "cell_type": "markdown",
   "id": "bbe9e6a1-0573-40ed-bd94-1785c08c2be2",
   "metadata": {},
   "source": [
    "注意，使用这种方式，方法的docstring是必须的，否则在执行时会报错，原因也很简单，在向LLM对话时，LLM就是靠docstring信息来感知工具作用的"
   ]
  },
  {
   "cell_type": "code",
   "execution_count": 8,
   "id": "7df80d4d-a046-48a3-b1a4-a1739fd5dc13",
   "metadata": {
    "execution": {
     "iopub.execute_input": "2024-06-09T14:46:55.140951Z",
     "iopub.status.busy": "2024-06-09T14:46:55.140845Z",
     "iopub.status.idle": "2024-06-09T14:46:55.176988Z",
     "shell.execute_reply": "2024-06-09T14:46:55.176731Z",
     "shell.execute_reply.started": "2024-06-09T14:46:55.140942Z"
    },
    "tags": []
   },
   "outputs": [],
   "source": [
    "from langchain_core.tools import tool\n",
    "    \n",
    "@tool\n",
    "def search_web2(query: str, k=5) -> str:\n",
    "    \"\"\"当有不知道或不确定的信息时，搜索互联网\"\"\"\n",
    "    \n",
    "    import os\n",
    "    from langchain_community.retrievers import TavilySearchAPIRetriever\n",
    "    \n",
    "    retriever = TavilySearchAPIRetriever(k=5)\n",
    "    documents = retriever.invoke(query)\n",
    "    # return [{'title': doc.metadata['title'], 'abstract': doc.page_content, 'href': doc.metadata['source'], 'score': doc.metadata['score']} for doc in\n",
    "    #         documents]\n",
    "    content = '\\n\\n'.join([doc.page_content for doc in documents])\n",
    "    prompt = f\"\"\"请将下面这段内容（<<<content>>><<</content>>>包裹的部分）进行总结：\n",
    "<<<content>>>\n",
    "{content}\n",
    "<<</content>>>\n",
    "\"\"\"\n",
    "    print('prompt:')\n",
    "    print(prompt)\n",
    "    \n",
    "    return model.invoke(prompt).content\n",
    "    \n",
    "@tool\n",
    "def get_current_weather2(city: str) -> str:\n",
    "    \"\"\"根据城市名获取天气\"\"\"\n",
    "    \n",
    "    import requests\n",
    "    from datetime import datetime\n",
    "    import os\n",
    "    \n",
    "    amap_api_key = os.environ['AMAP_API_KEY']\n",
    "    url = f'https://restapi.amap.com/v3/config/district?keywords={city}&key={amap_api_key}'\n",
    "    resp = requests.get(url)\n",
    "    # print('行政区划：')\n",
    "    # print(resp.json())\n",
    "    \n",
    "    adcode = resp.json()['districts'][0]['adcode']\n",
    "    # adcode = '110000'\n",
    "\n",
    "    url = f'https://restapi.amap.com/v3/weather/weatherInfo?city={adcode}&key={amap_api_key}&extensions=base'\n",
    "    resp = requests.get(url)\n",
    "    \"\"\"\n",
    "    {'province': '北京',\n",
    "     'city': '北京市',\n",
    "     'adcode': '110000',\n",
    "     'weather': '晴',\n",
    "     'temperature': '26',\n",
    "     'winddirection': '西北',\n",
    "     'windpower': '4',\n",
    "     'humidity': '20',\n",
    "     'reporttime': '2024-05-26 13:38:38',\n",
    "     'temperature_float': '26.0',\n",
    "     'humidity_float': '20.0'}\n",
    "    \"\"\"\n",
    "    # print('天气：')\n",
    "    # print(resp.json())\n",
    "    weather_json = resp.json()['lives'][0]\n",
    "    return f\"{weather_json['city']}{datetime.strptime(weather_json['reporttime'], '%Y-%m-%d %H:%M:%S').strftime('%m月%d日')}{weather_json['weather']}，气温{weather_json['temperature']}摄氏度，{weather_json['winddirection']}风{weather_json['windpower']}级\"\n",
    "    \n",
    "    \n",
    "fn_map2 = {\n",
    "    'get_current_weather2': get_current_weather2,\n",
    "    'search_web2': search_web2\n",
    "}\n",
    "\n",
    "llm_with_tool2 = model.bind_tools(tools=[get_current_weather2, search_web2])"
   ]
  },
  {
   "cell_type": "markdown",
   "id": "208efd3a-058e-497b-a889-8af9d7bbc459",
   "metadata": {},
   "source": [
    "# 使用工具"
   ]
  },
  {
   "cell_type": "markdown",
   "id": "112265da-9709-4540-bec4-810f0e6b1423",
   "metadata": {},
   "source": [
    "## 天气查询"
   ]
  },
  {
   "cell_type": "markdown",
   "id": "7f92c2a0-50c6-411a-b6ca-af1198be1d84",
   "metadata": {},
   "source": [
    "### 方法一"
   ]
  },
  {
   "cell_type": "code",
   "execution_count": 9,
   "id": "d1f268cd-3d9b-4f1d-9f34-b849fa539b46",
   "metadata": {
    "execution": {
     "iopub.execute_input": "2024-06-09T14:46:55.177403Z",
     "iopub.status.busy": "2024-06-09T14:46:55.177332Z",
     "iopub.status.idle": "2024-06-09T14:46:56.107833Z",
     "shell.execute_reply": "2024-06-09T14:46:56.106547Z",
     "shell.execute_reply.started": "2024-06-09T14:46:55.177396Z"
    },
    "tags": []
   },
   "outputs": [],
   "source": [
    "from langchain_core.messages import HumanMessage\n",
    "import json\n",
    "\n",
    "ai_msg = llm_with_tool.invoke(\"北京今天的天气怎么样\")\n",
    "fn_name = ai_msg.additional_kwargs['tool_calls'][0]['function']['name']\n",
    "kwargs = json.loads(ai_msg.additional_kwargs['tool_calls'][0]['function']['arguments'])"
   ]
  },
  {
   "cell_type": "code",
   "execution_count": 10,
   "id": "8739331e-64ff-449c-a81a-3c5ee9f5a11e",
   "metadata": {
    "execution": {
     "iopub.execute_input": "2024-06-09T14:46:56.110496Z",
     "iopub.status.busy": "2024-06-09T14:46:56.110098Z",
     "iopub.status.idle": "2024-06-09T14:46:56.194032Z",
     "shell.execute_reply": "2024-06-09T14:46:56.189001Z",
     "shell.execute_reply.started": "2024-06-09T14:46:56.110449Z"
    },
    "tags": []
   },
   "outputs": [
    {
     "data": {
      "text/plain": [
       "AIMessage(content='', additional_kwargs={'tool_calls': [{'function': {'name': 'get_current_weather', 'arguments': '{\"city\": \"北京\"}'}, 'id': '', 'type': 'function'}]}, response_metadata={'model_name': 'qwen-turbo', 'finish_reason': 'tool_calls', 'request_id': '85cc4446-d14d-970d-8755-362838b71fc4', 'token_usage': {'input_tokens': 254, 'output_tokens': 18, 'total_tokens': 272}}, id='run-70471ca2-2eef-493e-b28a-92de0c7a7648-0', tool_calls=[{'name': 'get_current_weather', 'args': {'city': '北京'}, 'id': ''}])"
      ]
     },
     "execution_count": 10,
     "metadata": {},
     "output_type": "execute_result"
    }
   ],
   "source": [
    "ai_msg"
   ]
  },
  {
   "cell_type": "markdown",
   "id": "9ea929fa-20be-4da1-9d8f-0db40cf9af9f",
   "metadata": {},
   "source": [
    "从结果看，触发函数调用了"
   ]
  },
  {
   "cell_type": "code",
   "execution_count": 11,
   "id": "476ef925-347b-4d69-a0b1-0f10a850f221",
   "metadata": {
    "execution": {
     "iopub.execute_input": "2024-06-09T14:46:56.208627Z",
     "iopub.status.busy": "2024-06-09T14:46:56.207958Z",
     "iopub.status.idle": "2024-06-09T14:46:56.226281Z",
     "shell.execute_reply": "2024-06-09T14:46:56.224783Z",
     "shell.execute_reply.started": "2024-06-09T14:46:56.208615Z"
    },
    "tags": []
   },
   "outputs": [
    {
     "data": {
      "text/plain": [
       "{'tool_calls': [{'function': {'name': 'get_current_weather',\n",
       "    'arguments': '{\"city\": \"北京\"}'},\n",
       "   'id': '',\n",
       "   'type': 'function'}]}"
      ]
     },
     "execution_count": 11,
     "metadata": {},
     "output_type": "execute_result"
    }
   ],
   "source": [
    "ai_msg.additional_kwargs"
   ]
  },
  {
   "cell_type": "code",
   "execution_count": 12,
   "id": "36a1fe9b-83c4-4c08-b9f1-e77d30864ef7",
   "metadata": {
    "execution": {
     "iopub.execute_input": "2024-06-09T14:46:56.226890Z",
     "iopub.status.busy": "2024-06-09T14:46:56.226757Z",
     "iopub.status.idle": "2024-06-09T14:46:56.357768Z",
     "shell.execute_reply": "2024-06-09T14:46:56.357164Z",
     "shell.execute_reply.started": "2024-06-09T14:46:56.226873Z"
    },
    "tags": []
   },
   "outputs": [
    {
     "data": {
      "text/plain": [
       "'北京市06月09日小雨，气温27摄氏度，南风≤3级'"
      ]
     },
     "execution_count": 12,
     "metadata": {},
     "output_type": "execute_result"
    }
   ],
   "source": [
    "fn_map[fn_name](**kwargs)"
   ]
  },
  {
   "cell_type": "markdown",
   "id": "59278eab-ddf7-4148-a6c2-2524b7ac039b",
   "metadata": {},
   "source": [
    "#### llm_with_tool.invoke实际发送的请求"
   ]
  },
  {
   "cell_type": "markdown",
   "id": "31cbda6d-10f1-45f3-90d4-94d6cdfd3ee5",
   "metadata": {},
   "source": [
    "llm_with_tool.invoke(\"北京今天的天气怎么样\")这一句，实际在底层发送请求时，调用的是dashscope库中，dashscope/api_entities/http_request.py这个文件的_handle_request方法"
   ]
  },
  {
   "cell_type": "markdown",
   "id": "3c93ce50-e88a-41aa-a389-c72c48be3716",
   "metadata": {},
   "source": [
    "发送的是一个HTTP POST方法，具体内容如下：\n",
    "\n",
    "```json\n",
    "{\n",
    "    \"model\": \"qwen-turbo\",\n",
    "    \"parameters\": {\n",
    "        \"top_p\": 0.8,\n",
    "        \"result_format\": \"message\",\n",
    "        \"tools\": [\n",
    "            {\n",
    "                \"type\": \"function\",\n",
    "                \"function\": {\n",
    "                    \"name\": \"get_current_weather\",\n",
    "                    \"description\": \"根据城市名获取天气\",\n",
    "                    \"parameters\": {\n",
    "                        \"type\": \"object\",\n",
    "                        \"properties\": {\n",
    "                            \"city\": {\n",
    "                                \"type\": \"string\",\n",
    "                                \"description\": \"城市名，例如北京\"\n",
    "                            }\n",
    "                        },\n",
    "                        \"required\": [\n",
    "                            \"city\"\n",
    "                        ]\n",
    "                    }\n",
    "                }\n",
    "            },\n",
    "            {\n",
    "                \"type\": \"function\",\n",
    "                \"function\": {\n",
    "                    \"name\": \"search_web\",\n",
    "                    \"description\": \"当有不知道或不确定的信息时，搜索互联网\",\n",
    "                    \"parameters\": {\n",
    "                        \"type\": \"object\",\n",
    "                        \"properties\": {\n",
    "                            \"query\": {\n",
    "                                \"type\": \"string\",\n",
    "                                \"description\": \"要搜素的内容\"\n",
    "                            }\n",
    "                        },\n",
    "                        \"required\": [\n",
    "                            \"query\"\n",
    "                        ]\n",
    "                    }\n",
    "                }\n",
    "            }\n",
    "        ]\n",
    "    },\n",
    "    \"input\": {\n",
    "        \"messages\": [\n",
    "            {\n",
    "                \"role\": \"user\",\n",
    "                \"content\": \"北京今天的天气怎么样\"\n",
    "            }\n",
    "        ]\n",
    "    }\n",
    "}\n",
    "```"
   ]
  },
  {
   "cell_type": "markdown",
   "id": "7718ef16-9570-4b40-a812-b770662924c8",
   "metadata": {},
   "source": [
    "### 方法二"
   ]
  },
  {
   "cell_type": "code",
   "execution_count": 31,
   "id": "6206ece1-b8d8-4181-94e2-351057b1a86c",
   "metadata": {
    "execution": {
     "iopub.execute_input": "2024-06-09T14:50:30.147274Z",
     "iopub.status.busy": "2024-06-09T14:50:30.146495Z",
     "iopub.status.idle": "2024-06-09T14:50:31.018682Z",
     "shell.execute_reply": "2024-06-09T14:50:31.017528Z",
     "shell.execute_reply.started": "2024-06-09T14:50:30.147227Z"
    },
    "tags": []
   },
   "outputs": [],
   "source": [
    "ai_msg = llm_with_tool2.invoke(\"北京今天的天气怎么样\")\n",
    "fn_name = ai_msg.additional_kwargs['tool_calls'][0]['function']['name']\n",
    "kwargs = json.loads(ai_msg.additional_kwargs['tool_calls'][0]['function']['arguments'])"
   ]
  },
  {
   "cell_type": "markdown",
   "id": "8edeb9fb-10a5-4874-a148-708db4636cad",
   "metadata": {},
   "source": [
    "注意，由于使用了`@tool`包装器，所以，不能直接使用`**kwargs`的方式传参了，否则会报错，需要显式地把参数取出来"
   ]
  },
  {
   "cell_type": "code",
   "execution_count": 14,
   "id": "5e93e5bb-c787-492f-a7f8-084dde1ce1b7",
   "metadata": {
    "execution": {
     "iopub.execute_input": "2024-06-09T14:46:57.110638Z",
     "iopub.status.busy": "2024-06-09T14:46:57.109634Z",
     "iopub.status.idle": "2024-06-09T14:46:57.275033Z",
     "shell.execute_reply": "2024-06-09T14:46:57.271995Z",
     "shell.execute_reply.started": "2024-06-09T14:46:57.110599Z"
    },
    "tags": []
   },
   "outputs": [
    {
     "name": "stderr",
     "output_type": "stream",
     "text": [
      "/Library/anaconda3/lib/python3.11/site-packages/langchain_core/_api/deprecation.py:119: LangChainDeprecationWarning: The method `BaseTool.__call__` was deprecated in langchain-core 0.1.47 and will be removed in 0.3.0. Use invoke instead.\n",
      "  warn_deprecated(\n"
     ]
    },
    {
     "data": {
      "text/plain": [
       "'北京市06月09日小雨，气温27摄氏度，南风≤3级'"
      ]
     },
     "execution_count": 14,
     "metadata": {},
     "output_type": "execute_result"
    }
   ],
   "source": [
    "fn_map2[fn_name](kwargs['city'])"
   ]
  },
  {
   "cell_type": "markdown",
   "id": "43f467ce-9567-4cd6-a434-43744e82558f",
   "metadata": {},
   "source": [
    "使用方法二，其实Langchain官方更推荐使用`.invoke`的方式进行调用"
   ]
  },
  {
   "cell_type": "code",
   "execution_count": 33,
   "id": "14d35ded-6325-4271-8e32-b1d88485d650",
   "metadata": {
    "execution": {
     "iopub.execute_input": "2024-06-09T14:51:16.769340Z",
     "iopub.status.busy": "2024-06-09T14:51:16.768594Z",
     "iopub.status.idle": "2024-06-09T14:51:16.927472Z",
     "shell.execute_reply": "2024-06-09T14:51:16.925907Z",
     "shell.execute_reply.started": "2024-06-09T14:51:16.769297Z"
    },
    "tags": []
   },
   "outputs": [
    {
     "data": {
      "text/plain": [
       "'北京市06月09日小雨，气温27摄氏度，南风≤3级'"
      ]
     },
     "execution_count": 33,
     "metadata": {},
     "output_type": "execute_result"
    }
   ],
   "source": [
    "fn_map2[fn_name].invoke(kwargs['city'])"
   ]
  },
  {
   "cell_type": "markdown",
   "id": "2d21eab4-fea5-44bf-ad79-5094799f4dfb",
   "metadata": {},
   "source": [
    "## 网络搜索"
   ]
  },
  {
   "cell_type": "code",
   "execution_count": 15,
   "id": "34f21302-afec-4a3e-8821-2c67c14efbed",
   "metadata": {
    "execution": {
     "iopub.execute_input": "2024-06-09T14:46:57.276792Z",
     "iopub.status.busy": "2024-06-09T14:46:57.276091Z",
     "iopub.status.idle": "2024-06-09T14:47:00.467679Z",
     "shell.execute_reply": "2024-06-09T14:47:00.466679Z",
     "shell.execute_reply.started": "2024-06-09T14:46:57.276767Z"
    },
    "tags": []
   },
   "outputs": [],
   "source": [
    "ai_msg = llm_with_tool.invoke(\"庆余年2好看吗\")"
   ]
  },
  {
   "cell_type": "code",
   "execution_count": 16,
   "id": "f8466046-4086-4e79-a35b-e9c76065af0c",
   "metadata": {
    "execution": {
     "iopub.execute_input": "2024-06-09T14:47:00.470279Z",
     "iopub.status.busy": "2024-06-09T14:47:00.469769Z",
     "iopub.status.idle": "2024-06-09T14:47:00.478453Z",
     "shell.execute_reply": "2024-06-09T14:47:00.477474Z",
     "shell.execute_reply.started": "2024-06-09T14:47:00.470244Z"
    },
    "tags": []
   },
   "outputs": [
    {
     "data": {
      "text/plain": [
       "AIMessage(content='\"庆余年2\"目前还没有正式播出或者上映，因为它是一部基于小说改编的电视剧，第一季在2019年就已经完结并受到了观众的喜爱。通常续集的质量会受到原作粉丝和新观众的期待，但是否好看因人而异，取决于个人喜好和对剧情发展的看法。\\n\\n如果你喜欢第一部的剧情和演员表现，可能会对第二季有所期待。不过，具体的评价和观看体验需要等到官方发布或者播出后，观众们看过并给出反馈后才能得出结论。如果你想了解关于庆余年系列的最新动态，我可以帮你搜索相关资讯。', response_metadata={'model_name': 'qwen-turbo', 'finish_reason': 'stop', 'request_id': '902feb76-9fe5-9fb4-90d9-f07f549d1eed', 'token_usage': {'input_tokens': 256, 'output_tokens': 127, 'total_tokens': 383}}, id='run-f221755d-7305-417a-9194-515ddd9e9e08-0')"
      ]
     },
     "execution_count": 16,
     "metadata": {},
     "output_type": "execute_result"
    }
   ],
   "source": [
    "ai_msg"
   ]
  },
  {
   "cell_type": "markdown",
   "id": "8e1b5c95-173d-44eb-8146-cac7a1cc20d1",
   "metadata": {},
   "source": [
    "从结果看，并没有触发函数调用"
   ]
  },
  {
   "cell_type": "code",
   "execution_count": 17,
   "id": "45a7947c-ff29-4d6a-95c9-2a231e94837b",
   "metadata": {
    "execution": {
     "iopub.execute_input": "2024-06-09T14:47:00.480078Z",
     "iopub.status.busy": "2024-06-09T14:47:00.479862Z",
     "iopub.status.idle": "2024-06-09T14:47:01.537837Z",
     "shell.execute_reply": "2024-06-09T14:47:01.536953Z",
     "shell.execute_reply.started": "2024-06-09T14:47:00.480057Z"
    },
    "tags": []
   },
   "outputs": [],
   "source": [
    "ai_msg = llm_with_tool.invoke(\"请帮我搜索并回答庆余年2好看吗\")"
   ]
  },
  {
   "cell_type": "code",
   "execution_count": 18,
   "id": "8e7dec35-97c0-4c0a-8dd2-27e3f7356054",
   "metadata": {
    "execution": {
     "iopub.execute_input": "2024-06-09T14:47:01.545027Z",
     "iopub.status.busy": "2024-06-09T14:47:01.539157Z",
     "iopub.status.idle": "2024-06-09T14:47:01.552701Z",
     "shell.execute_reply": "2024-06-09T14:47:01.551876Z",
     "shell.execute_reply.started": "2024-06-09T14:47:01.540774Z"
    },
    "tags": []
   },
   "outputs": [
    {
     "data": {
      "text/plain": [
       "AIMessage(content='', additional_kwargs={'tool_calls': [{'function': {'name': 'search_web', 'arguments': '{\"query\": \"庆余年2 好看吗\"}'}, 'id': '', 'type': 'function'}]}, response_metadata={'model_name': 'qwen-turbo', 'finish_reason': 'tool_calls', 'request_id': '76a7f075-62f2-9e37-9628-e69ce7f3586e', 'token_usage': {'input_tokens': 262, 'output_tokens': 25, 'total_tokens': 287}}, id='run-14b8fc06-1665-4d39-9ec0-a3d0b6fccc03-0', tool_calls=[{'name': 'search_web', 'args': {'query': '庆余年2 好看吗'}, 'id': ''}])"
      ]
     },
     "execution_count": 18,
     "metadata": {},
     "output_type": "execute_result"
    }
   ],
   "source": [
    "ai_msg"
   ]
  },
  {
   "cell_type": "markdown",
   "id": "28122c1e-d161-4b07-8d80-0e6d9da41194",
   "metadata": {},
   "source": [
    "在query中显式指定需要“搜索”，成功触发函数调用"
   ]
  },
  {
   "cell_type": "code",
   "execution_count": 19,
   "id": "23b714fb-9213-4712-8914-3962bc6dde35",
   "metadata": {
    "execution": {
     "iopub.execute_input": "2024-06-09T14:47:01.554100Z",
     "iopub.status.busy": "2024-06-09T14:47:01.553621Z",
     "iopub.status.idle": "2024-06-09T14:47:01.558202Z",
     "shell.execute_reply": "2024-06-09T14:47:01.557758Z",
     "shell.execute_reply.started": "2024-06-09T14:47:01.554077Z"
    },
    "tags": []
   },
   "outputs": [],
   "source": [
    "fn_name = ai_msg.additional_kwargs['tool_calls'][0]['function']['name']\n",
    "kwargs = json.loads(ai_msg.additional_kwargs['tool_calls'][0]['function']['arguments'])"
   ]
  },
  {
   "cell_type": "code",
   "execution_count": 20,
   "id": "835a1708-ace6-4b9b-93f3-c4652c37df07",
   "metadata": {
    "execution": {
     "iopub.execute_input": "2024-06-09T14:47:01.559286Z",
     "iopub.status.busy": "2024-06-09T14:47:01.558979Z",
     "iopub.status.idle": "2024-06-09T14:47:01.562618Z",
     "shell.execute_reply": "2024-06-09T14:47:01.562211Z",
     "shell.execute_reply.started": "2024-06-09T14:47:01.559255Z"
    },
    "tags": []
   },
   "outputs": [
    {
     "data": {
      "text/plain": [
       "'search_web'"
      ]
     },
     "execution_count": 20,
     "metadata": {},
     "output_type": "execute_result"
    }
   ],
   "source": [
    "fn_name"
   ]
  },
  {
   "cell_type": "code",
   "execution_count": 21,
   "id": "437fbc20-640b-4e22-b333-8c2369670812",
   "metadata": {
    "execution": {
     "iopub.execute_input": "2024-06-09T14:47:01.563292Z",
     "iopub.status.busy": "2024-06-09T14:47:01.563193Z",
     "iopub.status.idle": "2024-06-09T14:47:01.565642Z",
     "shell.execute_reply": "2024-06-09T14:47:01.565341Z",
     "shell.execute_reply.started": "2024-06-09T14:47:01.563283Z"
    },
    "tags": []
   },
   "outputs": [
    {
     "data": {
      "text/plain": [
       "{'query': '庆余年2 好看吗'}"
      ]
     },
     "execution_count": 21,
     "metadata": {},
     "output_type": "execute_result"
    }
   ],
   "source": [
    "kwargs"
   ]
  },
  {
   "cell_type": "markdown",
   "id": "d657daef-9e2b-479b-b41f-a424e4464f72",
   "metadata": {},
   "source": [
    "从query参数来看，LLM对输入做了分词，并将其转换成了适合搜索的关键词形式"
   ]
  },
  {
   "cell_type": "markdown",
   "id": "b4eadbd8-b12c-46d8-bfe6-4d80de857705",
   "metadata": {},
   "source": [
    "调用函数"
   ]
  },
  {
   "cell_type": "code",
   "execution_count": 26,
   "id": "569bead0-93dc-4c3d-be80-706f9fabf30d",
   "metadata": {
    "execution": {
     "iopub.execute_input": "2024-06-09T14:49:20.405484Z",
     "iopub.status.busy": "2024-06-09T14:49:20.405283Z",
     "iopub.status.idle": "2024-06-09T14:49:26.213747Z",
     "shell.execute_reply": "2024-06-09T14:49:26.210748Z",
     "shell.execute_reply.started": "2024-06-09T14:49:20.405469Z"
    },
    "tags": []
   },
   "outputs": [
    {
     "name": "stdout",
     "output_type": "stream",
     "text": [
      "prompt:\n",
      "请将下面这段内容（<<<content>>><<</content>>>包裹的部分）进行总结：\n",
      "<<<content>>>\n",
      "这篇剧评可能有剧透. 《庆余年第二季》首播不负所望，台网双爆，热度空前，\"年度剧王\"的桂冠看来差不多已经戴稳了。. 多数观众认为第二季没有拉胯，延续了第一季的精彩，尤其是抱月楼众皇子与范闲上演狂飙大乱斗这场戏，着实精彩好看，堪称该剧的第 ...\n",
      "\n",
      "央视热播剧《庆余年2》近日迎来了大结局。 从播出到现在，《庆余年2》频繁登上热搜。 关于它的角色、剧情，一直讨论不断。 电视剧虽然只有几十集，却囊括了朝堂权谋，江湖纷争、市井生活与人情百态。 看的是剧，讲的是故事，品的却是人生。\n",
      "\n",
      "观众的打分和评价都一针见血_腾讯新闻. 《庆余年2》第一波真实口碑出炉!. 观众的打分和评价都一针见血. 等了5年，终于等到《 庆余年2 》惊喜开播了。. 而这部剧的首播当晚排面有多大呢？. 全网热度第一，热搜前十八个都和这部剧有关系。. 这个架势，不愧 ...\n",
      "\n",
      "庆余年2前5集观后感，优缺点浅评. 1～2集：前两集不太好看，因为看庆2之前我刚把第一季精编版刷完重温了一下剧情，感觉节奏和味道都不太对，没有庆1的节奏感，剧情很平，梗多，但是信息量很低，有些水，假死剧情逻辑上来说圆得很生硬，没什么必要 ...\n",
      "\n",
      "庆余年2开播这天，我给我自己放了一首《好日子》。 因为点开第一集刚看了个开头，我就知道，属于我的2019年重新杀了回来。 故事的接续感诚意十足，一点开就是张庆被催更，回扣整体的世界观，再跟随故事回到剧中，以同样的节奏同样的视角重现第一季的 ...\n",
      "<<</content>>>\n",
      "\n"
     ]
    },
    {
     "data": {
      "text/plain": [
       "'《庆余年第二季》首播受到热烈欢迎，被誉为“年度剧王”，凭借精彩的剧情和延续的第一季风格赢得了观众的认可，尤其抱月楼皇子与范闲的戏份备受称赞。剧集涵盖了多种元素如权谋、江湖、生活和人性探索，引发大量讨论。观众评分积极，首播当晚热度极高，与第一部作品有强烈的连结感。然而，前几集中部分观众反映与第一部的节奏相比稍显平淡，存在一些逻辑上的生硬之处。总体来看，该剧在观众中引起了强烈反响。'"
      ]
     },
     "execution_count": 26,
     "metadata": {},
     "output_type": "execute_result"
    }
   ],
   "source": [
    "fn_map[fn_name](**kwargs)"
   ]
  },
  {
   "cell_type": "markdown",
   "id": "874a3b23-c232-4c16-b2fb-53dfdb0b2a85",
   "metadata": {},
   "source": [
    "### 方法二"
   ]
  },
  {
   "cell_type": "code",
   "execution_count": 35,
   "id": "91cb70a9-8149-4686-b585-831d27a5119b",
   "metadata": {
    "execution": {
     "iopub.execute_input": "2024-06-09T14:51:38.015245Z",
     "iopub.status.busy": "2024-06-09T14:51:38.014413Z",
     "iopub.status.idle": "2024-06-09T14:51:38.979855Z",
     "shell.execute_reply": "2024-06-09T14:51:38.978654Z",
     "shell.execute_reply.started": "2024-06-09T14:51:38.015193Z"
    },
    "tags": []
   },
   "outputs": [],
   "source": [
    "ai_msg = llm_with_tool2.invoke(\"请帮我搜索并回答庆余年2好看吗\")\n",
    "fn_name = ai_msg.additional_kwargs['tool_calls'][0]['function']['name']\n",
    "kwargs = json.loads(ai_msg.additional_kwargs['tool_calls'][0]['function']['arguments'])"
   ]
  },
  {
   "cell_type": "code",
   "execution_count": 37,
   "id": "37c59e7a-f7b0-4be1-a08d-43ea0b246d93",
   "metadata": {
    "execution": {
     "iopub.execute_input": "2024-06-09T14:51:48.176939Z",
     "iopub.status.busy": "2024-06-09T14:51:48.175949Z",
     "iopub.status.idle": "2024-06-09T14:51:53.153627Z",
     "shell.execute_reply": "2024-06-09T14:51:53.152751Z",
     "shell.execute_reply.started": "2024-06-09T14:51:48.176894Z"
    },
    "tags": []
   },
   "outputs": [
    {
     "name": "stdout",
     "output_type": "stream",
     "text": [
      "prompt:\n",
      "请将下面这段内容（<<<content>>><<</content>>>包裹的部分）进行总结：\n",
      "<<<content>>>\n",
      "作为备受期待的续集，《庆余年2》承载了大量观众的期望。然而，这部作品在多方面未能达到前作的高度。本文将从逻辑漏洞、叙事节奏、角色塑造以及制作质量等角度进行全面的批评性分析。 逻辑漏洞与情节问题 《庆余年2》在情节发展上充满了明显的逻辑 ...\n",
      "\n",
      "影评; 2023年度榜单 ... 庆余年2开播这天，我给我自己放了一首《好日子》。 因为点开第一集刚看了个开头，我就知道，属于我的2019年重新杀了回来。 故事的接续感诚意十足，一点开就是张庆被催更，回扣整体的世界观，再跟随故事回到剧中，以同样的节奏同样 ...\n",
      "\n",
      "1～2集：前两集不太好看，因为看庆2之前我刚把第一季精编版刷完重温了一下剧情，感觉节奏和味道都不太对，没有庆1的节奏感，剧情很平，梗多，但是信息量很低，有些水，假死剧情逻辑上来说圆得很生硬，没什么必要，去掉不影响，而且第一集前半段现代剧情太水了，什么人都去催更那里有 ...\n",
      "\n",
      "由于第二季的体量仅有36集，因此很难不让人以为《庆余年2》的节奏很快，一定会单刀直入的开始讲第二季的情节。. 但编剧和导演显然不知道观众们想看的是什么，第一集就让人看得想破口大骂。. 随着首播口碑出炉，看看观众们的评论和打分就知道，一针见血 ...\n",
      "\n",
      "观众的打分和评价都一针见血_腾讯新闻. 《庆余年2》第一波真实口碑出炉!. 观众的打分和评价都一针见血. 等了5年，终于等到《 庆余年2 》惊喜开播了。. 而这部剧的首播当晚排面有多大呢？. 全网热度第一，热搜前十八个都和这部剧有关系。. 这个架势，不愧 ...\n",
      "<<</content>>>\n",
      "\n"
     ]
    },
    {
     "data": {
      "text/plain": [
       "'《庆余年2》作为续集，未能满足观众的期望，受到批评，主要问题包括逻辑漏洞、叙事节奏不协调、角色发展不足和制作质量问题。前两集被指出与前作差距较大，节奏感减弱，剧情显得平庸且信息量低，部分情节处理生硬。观众反应强烈，首播口碑不佳，打分和评价直接反映出对剧集质量的不满。尽管开播时场面火爆，但实际内容并未达到预期。'"
      ]
     },
     "execution_count": 37,
     "metadata": {},
     "output_type": "execute_result"
    }
   ],
   "source": [
    "fn_map2[fn_name].invoke(kwargs['query'])"
   ]
  },
  {
   "cell_type": "code",
   "execution_count": null,
   "id": "bc6f5bf7-304f-4a11-b16c-99245d992d13",
   "metadata": {},
   "outputs": [],
   "source": []
  }
 ],
 "metadata": {
  "kernelspec": {
   "display_name": "Python 3 (ipykernel)",
   "language": "python",
   "name": "python3"
  },
  "language_info": {
   "codemirror_mode": {
    "name": "ipython",
    "version": 3
   },
   "file_extension": ".py",
   "mimetype": "text/x-python",
   "name": "python",
   "nbconvert_exporter": "python",
   "pygments_lexer": "ipython3",
   "version": "3.11.4"
  },
  "toc-autonumbering": true
 },
 "nbformat": 4,
 "nbformat_minor": 5
}
