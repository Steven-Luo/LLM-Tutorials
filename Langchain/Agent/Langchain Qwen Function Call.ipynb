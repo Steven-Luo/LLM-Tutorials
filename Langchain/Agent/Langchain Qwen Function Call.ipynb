{
 "cells": [
  {
   "cell_type": "markdown",
   "id": "e443c9a9-6c39-46cb-b740-9ebafaff6609",
   "metadata": {
    "execution": {
     "iopub.execute_input": "2024-05-26T04:14:18.523057Z",
     "iopub.status.busy": "2024-05-26T04:14:18.522436Z",
     "iopub.status.idle": "2024-05-26T04:14:18.532751Z",
     "shell.execute_reply": "2024-05-26T04:14:18.531389Z",
     "shell.execute_reply.started": "2024-05-26T04:14:18.523015Z"
    },
    "tags": []
   },
   "source": [
    "本笔记本展示了如何使用Ollama中的Qwen大模型，进行工具调用。示例中共包含2个工具：\n",
    "\n",
    "- 天气查询\n",
    "- 搜索网络\n",
    "\n",
    "请注意，更强大和更有能力的模型将在复杂的模式和/或多个功能下表现得更好。有关支持的模型和模型变体的完整列表，请参阅[Ollama模型库](https://ollama.ai/library)。"
   ]
  },
  {
   "cell_type": "code",
   "execution_count": 4,
   "id": "444ae204-304e-4763-a9dc-4379ac62edf4",
   "metadata": {
    "execution": {
     "iopub.execute_input": "2024-05-26T03:29:04.564698Z",
     "iopub.status.busy": "2024-05-26T03:29:04.564368Z",
     "iopub.status.idle": "2024-05-26T03:29:06.081878Z",
     "shell.execute_reply": "2024-05-26T03:29:06.081050Z",
     "shell.execute_reply.started": "2024-05-26T03:29:04.564678Z"
    },
    "tags": []
   },
   "outputs": [],
   "source": [
    "!pip install -q langchain_experimental"
   ]
  },
  {
   "cell_type": "code",
   "execution_count": 88,
   "id": "a9f9afba-3e9e-46df-b79f-d4f4de4ac7c1",
   "metadata": {
    "execution": {
     "iopub.execute_input": "2024-05-26T04:12:50.243142Z",
     "iopub.status.busy": "2024-05-26T04:12:50.242374Z",
     "iopub.status.idle": "2024-05-26T04:12:50.252013Z",
     "shell.execute_reply": "2024-05-26T04:12:50.251076Z",
     "shell.execute_reply.started": "2024-05-26T04:12:50.243095Z"
    },
    "tags": []
   },
   "outputs": [
    {
     "name": "stdout",
     "output_type": "stream",
     "text": [
      "langchain_experimental\t0.0.59\n",
      "langchain_core      \t0.2.0\n"
     ]
    }
   ],
   "source": [
    "import langchain_experimental, langchain_core\n",
    "\n",
    "for module in (langchain_experimental, langchain_core):\n",
    "    print(f\"{module.__name__:<20}\\t{module.__version__}\")"
   ]
  },
  {
   "cell_type": "markdown",
   "id": "f3d08d2f-ac30-4c18-89e6-1b88bd1ae6b2",
   "metadata": {},
   "source": [
    "# 绑定工具"
   ]
  },
  {
   "cell_type": "code",
   "execution_count": 1,
   "id": "b76342a0-96b7-4f4a-9eba-779897becfc6",
   "metadata": {
    "execution": {
     "iopub.execute_input": "2024-05-26T05:43:37.710014Z",
     "iopub.status.busy": "2024-05-26T05:43:37.705767Z",
     "iopub.status.idle": "2024-05-26T05:43:38.129576Z",
     "shell.execute_reply": "2024-05-26T05:43:38.129253Z",
     "shell.execute_reply.started": "2024-05-26T05:43:37.709937Z"
    },
    "tags": []
   },
   "outputs": [],
   "source": [
    "from langchain_experimental.llms.ollama_functions import OllamaFunctions"
   ]
  },
  {
   "cell_type": "code",
   "execution_count": 85,
   "id": "b3b97211-caf4-41ca-b539-b52c8f4d632b",
   "metadata": {
    "execution": {
     "iopub.execute_input": "2024-05-26T13:56:58.084328Z",
     "iopub.status.busy": "2024-05-26T13:56:58.083863Z",
     "iopub.status.idle": "2024-05-26T13:56:58.092640Z",
     "shell.execute_reply": "2024-05-26T13:56:58.090828Z",
     "shell.execute_reply.started": "2024-05-26T13:56:58.084303Z"
    },
    "tags": []
   },
   "outputs": [],
   "source": [
    "model = OllamaFunctions(model='qwen:14b', base_url='http://localhost:11434', format='json')"
   ]
  },
  {
   "cell_type": "code",
   "execution_count": 81,
   "id": "47956ac0-dfa6-413d-b128-d4846561cdc0",
   "metadata": {
    "execution": {
     "iopub.execute_input": "2024-05-26T13:55:59.752811Z",
     "iopub.status.busy": "2024-05-26T13:55:59.752139Z",
     "iopub.status.idle": "2024-05-26T13:55:59.770884Z",
     "shell.execute_reply": "2024-05-26T13:55:59.770264Z",
     "shell.execute_reply.started": "2024-05-26T13:55:59.752781Z"
    },
    "tags": []
   },
   "outputs": [],
   "source": [
    "amap_api_key = '替换为自己的高德API Key'\n",
    "tavily_api_key = '替换为自己的tavily API Key'\n",
    "\n",
    "def search_web(query, k=5, max_retry=3):\n",
    "    import os\n",
    "    from langchain_community.retrievers import TavilySearchAPIRetriever\n",
    "    \n",
    "    os.environ[\"TAVILY_API_KEY\"] = tavily_api_key\n",
    "    retriever = TavilySearchAPIRetriever(k=5)\n",
    "    documents = retriever.invoke(query)\n",
    "    # return [{'title': doc.metadata['title'], 'abstract': doc.page_content, 'href': doc.metadata['source'], 'score': doc.metadata['score']} for doc in\n",
    "    #         documents]\n",
    "    content = '\\n\\n'.join([doc.page_content for doc in documents])\n",
    "    prompt = f\"\"\"请将下面这段内容（<<<content>>><<</content>>>包裹的部分）进行总结：\n",
    "<<<content>>>\n",
    "{content}\n",
    "<<</content>>>\n",
    "\"\"\"\n",
    "    print('prompt:')\n",
    "    print(prompt)\n",
    "    \n",
    "    return model.invoke(prompt).content\n",
    "    \n",
    "\n",
    "def get_current_weather(city):\n",
    "    import requests\n",
    "    from datetime import datetime\n",
    "    \n",
    "    url = f'https://restapi.amap.com/v3/config/district?keywords={city}&key={amap_api_key}'\n",
    "    resp = requests.get(url)\n",
    "    # print('行政区划：')\n",
    "    # print(resp.json())\n",
    "    \n",
    "    adcode = resp.json()['districts'][0]['adcode']\n",
    "    # adcode = '110000'\n",
    "\n",
    "    url = f'https://restapi.amap.com/v3/weather/weatherInfo?city={adcode}&key={amap_api_key}&extensions=base'\n",
    "    resp = requests.get(url)\n",
    "    \"\"\"\n",
    "    {'province': '北京',\n",
    "     'city': '北京市',\n",
    "     'adcode': '110000',\n",
    "     'weather': '晴',\n",
    "     'temperature': '26',\n",
    "     'winddirection': '西北',\n",
    "     'windpower': '4',\n",
    "     'humidity': '20',\n",
    "     'reporttime': '2024-05-26 13:38:38',\n",
    "     'temperature_float': '26.0',\n",
    "     'humidity_float': '20.0'}\n",
    "    \"\"\"\n",
    "    # print('天气：')\n",
    "    # print(resp.json())\n",
    "    weather_json = resp.json()['lives'][0]\n",
    "    return f\"{weather_json['city']}{datetime.strptime(weather_json['reporttime'], '%Y-%m-%d %H:%M:%S').strftime('%m月%d日')}{weather_json['weather']}，气温{weather_json['temperature']}摄氏度，{weather_json['winddirection']}风{weather_json['windpower']}级\"\n",
    "    \n",
    "    \n",
    "fn_map = {\n",
    "    'get_current_weather': get_current_weather,\n",
    "    'search_web': search_web\n",
    "}\n",
    "\n",
    "llm_with_tool = model.bind_tools(\n",
    "    tools=[\n",
    "        {\n",
    "            \"name\": \"get_current_weather\",\n",
    "            \"description\": \"根据城市名获取天气\",\n",
    "            \"parameters\": {\n",
    "                \"type\": \"object\",\n",
    "                \"properties\": {\n",
    "                    \"city\": {\n",
    "                        \"type\": \"string\",\n",
    "                        \"description\": \"城市名，例如北京\"\n",
    "                    }\n",
    "                },\n",
    "                \"required\": [\"city\"]\n",
    "            }\n",
    "        },\n",
    "        {\n",
    "            \"name\": \"search_web\",\n",
    "            \"description\": \"搜索互联网\",\n",
    "            \"parameters\": {\n",
    "                \"type\": \"object\",\n",
    "                \"properties\": {\n",
    "                    \"query\": {\n",
    "                        \"type\": \"string\",\n",
    "                        \"description\": \"要搜素的内容\"\n",
    "                    }\n",
    "                },\n",
    "                \"required\": [\"query\"]\n",
    "            }\n",
    "        },\n",
    "    ],\n",
    "    # function_call={\"name\": \"get_current_weather\"}\n",
    ")"
   ]
  },
  {
   "cell_type": "markdown",
   "id": "69893701-baaa-4ec7-b496-b5617fa36654",
   "metadata": {},
   "source": [
    "# 使用工具"
   ]
  },
  {
   "cell_type": "markdown",
   "id": "53afbf57-114f-4e51-bff0-1043ef430bac",
   "metadata": {},
   "source": [
    "## 天气查询"
   ]
  },
  {
   "cell_type": "code",
   "execution_count": 52,
   "id": "06981602-7046-4dec-a339-030f21c66b6a",
   "metadata": {
    "execution": {
     "iopub.execute_input": "2024-05-26T13:47:38.584681Z",
     "iopub.status.busy": "2024-05-26T13:47:38.583683Z",
     "iopub.status.idle": "2024-05-26T13:47:46.821996Z",
     "shell.execute_reply": "2024-05-26T13:47:46.820812Z",
     "shell.execute_reply.started": "2024-05-26T13:47:38.584654Z"
    },
    "tags": []
   },
   "outputs": [],
   "source": [
    "from langchain_core.messages import HumanMessage\n",
    "import json\n",
    "\n",
    "ai_msg = llm_with_tool.invoke(\"北京今天的天气怎么样\")\n",
    "kwargs = json.loads(ai_msg.additional_kwargs['function_call']['arguments'])"
   ]
  },
  {
   "cell_type": "code",
   "execution_count": 53,
   "id": "b582110e-7f4a-42c6-9fc0-c8621d5682ce",
   "metadata": {
    "execution": {
     "iopub.execute_input": "2024-05-26T13:47:46.834504Z",
     "iopub.status.busy": "2024-05-26T13:47:46.834174Z",
     "iopub.status.idle": "2024-05-26T13:47:46.841036Z",
     "shell.execute_reply": "2024-05-26T13:47:46.837346Z",
     "shell.execute_reply.started": "2024-05-26T13:47:46.834483Z"
    },
    "tags": []
   },
   "outputs": [
    {
     "data": {
      "text/plain": [
       "{'function_call': {'name': 'get_current_weather',\n",
       "  'arguments': '{\"city\": \"\\\\u5317\\\\u4eac\"}'}}"
      ]
     },
     "execution_count": 53,
     "metadata": {},
     "output_type": "execute_result"
    }
   ],
   "source": [
    "ai_msg.additional_kwargs"
   ]
  },
  {
   "cell_type": "code",
   "execution_count": 55,
   "id": "096b21ae-ca50-4f97-830f-e97e332c2fc8",
   "metadata": {
    "execution": {
     "iopub.execute_input": "2024-05-26T13:47:46.851963Z",
     "iopub.status.busy": "2024-05-26T13:47:46.851871Z",
     "iopub.status.idle": "2024-05-26T13:47:46.854639Z",
     "shell.execute_reply": "2024-05-26T13:47:46.854286Z",
     "shell.execute_reply.started": "2024-05-26T13:47:46.851954Z"
    },
    "tags": []
   },
   "outputs": [
    {
     "data": {
      "text/plain": [
       "{'city': '北京'}"
      ]
     },
     "execution_count": 55,
     "metadata": {},
     "output_type": "execute_result"
    }
   ],
   "source": [
    "kwargs"
   ]
  },
  {
   "cell_type": "code",
   "execution_count": 58,
   "id": "7243032f-a031-4a55-89bb-ed0e9bc56a7d",
   "metadata": {
    "execution": {
     "iopub.execute_input": "2024-05-26T13:47:54.682465Z",
     "iopub.status.busy": "2024-05-26T13:47:54.682111Z",
     "iopub.status.idle": "2024-05-26T13:47:54.842177Z",
     "shell.execute_reply": "2024-05-26T13:47:54.841604Z",
     "shell.execute_reply.started": "2024-05-26T13:47:54.682446Z"
    },
    "tags": []
   },
   "outputs": [
    {
     "data": {
      "text/plain": [
       "'北京市05月26日晴，气温25摄氏度，西风≤3级'"
      ]
     },
     "execution_count": 58,
     "metadata": {},
     "output_type": "execute_result"
    }
   ],
   "source": [
    "fn_map[ai_msg.additional_kwargs['function_call']['name']](**kwargs)"
   ]
  },
  {
   "cell_type": "markdown",
   "id": "f45cbbd7-597d-493f-974a-7bb7923ef9b3",
   "metadata": {},
   "source": [
    "## 网络搜索"
   ]
  },
  {
   "cell_type": "code",
   "execution_count": 66,
   "id": "eee3b899-57f1-42ad-965d-67f43e1771e7",
   "metadata": {
    "execution": {
     "iopub.execute_input": "2024-05-26T13:49:48.458698Z",
     "iopub.status.busy": "2024-05-26T13:49:48.457995Z",
     "iopub.status.idle": "2024-05-26T13:49:54.703453Z",
     "shell.execute_reply": "2024-05-26T13:49:54.702059Z",
     "shell.execute_reply.started": "2024-05-26T13:49:48.458677Z"
    },
    "tags": []
   },
   "outputs": [],
   "source": [
    "ai_msg = llm_with_tool.invoke(\"庆余年2好看吗\")\n",
    "kwargs = json.loads(ai_msg.additional_kwargs['function_call']['arguments'])"
   ]
  },
  {
   "cell_type": "code",
   "execution_count": 79,
   "id": "3e24ae6f-a32b-4ce5-a5bc-e798025630d6",
   "metadata": {
    "execution": {
     "iopub.execute_input": "2024-05-26T13:55:21.520883Z",
     "iopub.status.busy": "2024-05-26T13:55:21.520382Z",
     "iopub.status.idle": "2024-05-26T13:55:21.536715Z",
     "shell.execute_reply": "2024-05-26T13:55:21.535706Z",
     "shell.execute_reply.started": "2024-05-26T13:55:21.520857Z"
    },
    "tags": []
   },
   "outputs": [
    {
     "data": {
      "text/plain": [
       "AIMessage(content='', additional_kwargs={'function_call': {'name': 'search_web', 'arguments': '{\"query\": \"\\\\u5e86\\\\u4f59\\\\u5e742 \\\\u597d\\\\u770b\\\\u5417 \\\\u5f71\\\\u8bc4\"}'}}, id='run-15f85676-e800-40e1-88dc-eb99d1994091-0')"
      ]
     },
     "execution_count": 79,
     "metadata": {},
     "output_type": "execute_result"
    }
   ],
   "source": [
    "ai_msg"
   ]
  },
  {
   "cell_type": "code",
   "execution_count": 80,
   "id": "c493f882-d293-4b42-bcc7-09be8b7220fa",
   "metadata": {
    "execution": {
     "iopub.execute_input": "2024-05-26T13:55:22.125916Z",
     "iopub.status.busy": "2024-05-26T13:55:22.125345Z",
     "iopub.status.idle": "2024-05-26T13:55:22.143635Z",
     "shell.execute_reply": "2024-05-26T13:55:22.143063Z",
     "shell.execute_reply.started": "2024-05-26T13:55:22.125885Z"
    },
    "tags": []
   },
   "outputs": [
    {
     "data": {
      "text/plain": [
       "{'query': '庆余年2 好看吗 影评'}"
      ]
     },
     "execution_count": 80,
     "metadata": {},
     "output_type": "execute_result"
    }
   ],
   "source": [
    "kwargs"
   ]
  },
  {
   "cell_type": "code",
   "execution_count": 86,
   "id": "5a82b5fb-03e7-46a8-beab-b7a73a76581a",
   "metadata": {
    "execution": {
     "iopub.execute_input": "2024-05-26T13:57:03.000991Z",
     "iopub.status.busy": "2024-05-26T13:57:03.000323Z",
     "iopub.status.idle": "2024-05-26T13:57:25.016331Z",
     "shell.execute_reply": "2024-05-26T13:57:25.011339Z",
     "shell.execute_reply.started": "2024-05-26T13:57:03.000944Z"
    },
    "tags": []
   },
   "outputs": [
    {
     "name": "stdout",
     "output_type": "stream",
     "text": [
      "prompt:\n",
      "请将下面这段内容（<<<content>>><<</content>>>包裹的部分）进行总结：\n",
      "<<<content>>>\n",
      "庆余年2前5集观后感，优缺点浅评. 1～2集：前两集不太好看，因为看庆2之前我刚把第一季精编版刷完重温了一下剧情，感觉节奏和味道都不太对，没有庆1的节奏感，剧情很平，梗多，但是信息量很低，有些水，假死剧情逻辑上来说圆得很生硬，没什么必要 ...\n",
      "\n",
      "庆余年2开播这天，我给我自己放了一首《好日子》。 因为点开第一集刚看了个开头，我就知道，属于我的2019年重新杀了回来。 故事的接续感诚意十足，一点开就是张庆被催更，回扣整体的世界观，再跟随故事回到剧中，以同样的节奏同样的视角重现第一季的 ...\n",
      "\n",
      "微博讨论度也高得夸张，#庆余年 剧王#的词条直接登顶热搜，后面还挂了\"爆\"字，热度待遇堪比娱乐圈八卦，#庆余年2剧本写了约3年##庆余年 袁泉#等多个相关词条也一起上榜。 微博讨论度 《庆余年2》书接上回，先需要揭开第一季结尾范闲被言冰云刺杀的悬念。\n",
      "\n",
      "庆余年 第二季电视剧简介和剧情介绍,庆余年 第二季影评、图片、论坛 ... 感觉这几年的期待就是个笑话，真的逃不脱第二季难看得宿命吗？ ... 庆余年2开播这天，我给我自己放了一首《好日子》。 因为点开第一集刚看了个开头，我就知道，属于我的2019年重新杀 ...\n",
      "\n",
      "观众的打分和评价都一针见血_腾讯新闻. 《庆余年2》第一波真实口碑出炉!. 观众的打分和评价都一针见血. 等了5年，终于等到《 庆余年2 》惊喜开播了。. 而这部剧的首播当晚排面有多大呢？. 全网热度第一，热搜前十八个都和这部剧有关系。. 这个架势，不愧 ...\n",
      "<<</content>>>\n",
      "\n"
     ]
    },
    {
     "data": {
      "text/plain": [
       "'《庆余年2》的开播似乎备受关注，首播当晚热度爆棚，登顶热搜榜首。观众们的反馈似乎既包含了期待又夹杂着对第一季结束后的剧情走向的揣测。然而，《庆余年2》能否延续并超越前作的口碑，还需时间给出答案。'"
      ]
     },
     "execution_count": 86,
     "metadata": {},
     "output_type": "execute_result"
    }
   ],
   "source": [
    "fn_map[ai_msg.additional_kwargs['function_call']['name']](**kwargs)"
   ]
  },
  {
   "cell_type": "markdown",
   "id": "dc3acc6e-eaab-4dd1-9371-e0d358dda02c",
   "metadata": {},
   "source": [
    "# 流式输出"
   ]
  },
  {
   "cell_type": "markdown",
   "id": "2d996ff4-158b-4f6b-9817-b341646b29f1",
   "metadata": {},
   "source": [
    "与`langchain_community.llms.ollama.Ollama`中的Ollma类似，此处的OllamaFunctions依然支持流式输出，知识要注意，构造时如果传递了`format`参数，则会流式输出json"
   ]
  },
  {
   "cell_type": "code",
   "execution_count": 89,
   "id": "05ea4c9f-4b77-4690-b456-ca98b8c78af6",
   "metadata": {
    "execution": {
     "iopub.execute_input": "2024-05-26T14:00:04.355884Z",
     "iopub.status.busy": "2024-05-26T14:00:04.355160Z",
     "iopub.status.idle": "2024-05-26T14:00:27.977645Z",
     "shell.execute_reply": "2024-05-26T14:00:27.976758Z",
     "shell.execute_reply.started": "2024-05-26T14:00:04.355857Z"
    },
    "tags": []
   },
   "outputs": [
    {
     "name": "stdout",
     "output_type": "stream",
     "text": [
      "{\n",
      "  \"response\": [\n",
      "    {\n",
      "      \"title\": \"狭义相对论\",\n",
      "      \"description\": \"由爱因斯坦提出，主要阐述物体在高速运动（接近光速）时的物理现象。它包括两个基本原理：相对性原理和光速不变原理。\"\n",
      "    },\n",
      "    {\n",
      "      \"title\": \"广义相对论\",\n",
      "      \"description\": \"是狭义相对论的一个自然拓展，由爱因斯坦在1915年提出。它主要描述了引力的本质，将引力视为物体所处的时空弯曲的结果。广义相对论的成功预测包括水星近日点的进动以及光在强引力场中的偏折现象。\"\n",
      "    }\n",
      "  ]\n",
      "}"
     ]
    }
   ],
   "source": [
    "model = OllamaFunctions(model='qwen:14b', base_url='http://localhost:11434', format='json')\n",
    "\n",
    "for chunk in model.stream('介绍一下相对论'):\n",
    "    print(chunk.content, end='')"
   ]
  },
  {
   "cell_type": "code",
   "execution_count": 90,
   "id": "51369659-7df7-48d9-9ebd-60a421a578d3",
   "metadata": {
    "execution": {
     "iopub.execute_input": "2024-05-26T14:01:05.788251Z",
     "iopub.status.busy": "2024-05-26T14:01:05.787867Z",
     "iopub.status.idle": "2024-05-26T14:01:17.476733Z",
     "shell.execute_reply": "2024-05-26T14:01:17.461862Z",
     "shell.execute_reply.started": "2024-05-26T14:01:05.788226Z"
    },
    "tags": []
   },
   "outputs": [
    {
     "name": "stdout",
     "output_type": "stream",
     "text": [
      "相对论是物理学中两个重要的理论体系：狭义相对论和广义相对论。\n",
      "\n",
      "1. **狭义相对论（Special Relativity）**：\n",
      "   - 由爱因斯坦在1905年提出，主要针对的是非加速运动的观察者。\n",
      "   - 狭义相对论的主要结论包括：光速不变原理、时间膨胀效应和长度收缩效应。\n",
      "\n",
      "2. **广义相对论（General Relativity）**：\n",
      "   - 提出于1915年的爱因斯坦，是对狭义相对论的一个自然推广，用于描述引力。\n",
      "   - 广义相对论的主要贡献包括：时空弯曲的概念、引力波的预言和黑洞理论的确立。\n",
      "\n",
      "尽管广义相对论在许多情况下都取得了惊人的成功，但它仍然没有被完全接受。一些物理学家认为可能存在其他形式的引力，这些观点被称为量子引力理论。然而，这些问题目前仍然是物理学界的研究前沿。"
     ]
    }
   ],
   "source": [
    "commmon_model = OllamaFunctions(model='qwen:14b', base_url='http://localhost:11434')\n",
    "\n",
    "for chunk in commmon_model.stream('介绍一下相对论'):\n",
    "    print(chunk.content, end='')"
   ]
  },
  {
   "cell_type": "code",
   "execution_count": null,
   "id": "b4b10240-9c52-45e6-af1b-214d18280ddd",
   "metadata": {},
   "outputs": [],
   "source": []
  }
 ],
 "metadata": {
  "kernelspec": {
   "display_name": "Python 3 (ipykernel)",
   "language": "python",
   "name": "python3"
  },
  "language_info": {
   "codemirror_mode": {
    "name": "ipython",
    "version": 3
   },
   "file_extension": ".py",
   "mimetype": "text/x-python",
   "name": "python",
   "nbconvert_exporter": "python",
   "pygments_lexer": "ipython3",
   "version": "3.11.4"
  }
 },
 "nbformat": 4,
 "nbformat_minor": 5
}
