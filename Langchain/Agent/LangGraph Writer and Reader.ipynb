{
 "cells": [
  {
   "cell_type": "markdown",
   "id": "a1749290-3788-4135-96ca-44f57c47b386",
   "metadata": {},
   "source": [
    "https://github.com/langchain-ai/langgraph/blob/main/examples/chatbot-simulation-evaluation/agent-simulation-evaluation.ipynb"
   ]
  },
  {
   "cell_type": "code",
   "execution_count": 1,
   "id": "a0088fa0-7cf5-48ff-9ce7-1db4f2831d5e",
   "metadata": {
    "execution": {
     "iopub.execute_input": "2024-05-28T02:44:06.099931Z",
     "iopub.status.busy": "2024-05-28T02:44:06.099809Z",
     "iopub.status.idle": "2024-05-28T02:44:11.752968Z",
     "shell.execute_reply": "2024-05-28T02:44:11.750384Z",
     "shell.execute_reply.started": "2024-05-28T02:44:06.099920Z"
    },
    "tags": []
   },
   "outputs": [],
   "source": [
    "%%capture --no-stderr\n",
    "%pip install -U langgraph langchain langchain_core langchain_openai"
   ]
  },
  {
   "cell_type": "code",
   "execution_count": 1,
   "id": "85a60f33-b00e-4ffe-aa39-cee88f589ef8",
   "metadata": {
    "execution": {
     "iopub.execute_input": "2024-10-30T14:15:25.838132Z",
     "iopub.status.busy": "2024-10-30T14:15:25.837396Z",
     "iopub.status.idle": "2024-10-30T14:15:26.720136Z",
     "shell.execute_reply": "2024-10-30T14:15:26.718386Z",
     "shell.execute_reply.started": "2024-10-30T14:15:25.838060Z"
    },
    "tags": []
   },
   "outputs": [
    {
     "name": "stdout",
     "output_type": "stream",
     "text": [
      "langchain                                         0.3.5\n",
      "langchain-cohere                                  0.1.5\n",
      "langchain-community                               0.3.3\n",
      "langchain-core                                    0.3.13\n",
      "langchain-experimental                            0.3.2\n",
      "langchain-ollama                                  0.2.0\n",
      "langchain-openai                                  0.2.4\n",
      "langchain-text-splitters                          0.3.1\n",
      "langchainplus-sdk                                 0.0.20\n"
     ]
    }
   ],
   "source": [
    "!pip list|grep langchain"
   ]
  },
  {
   "cell_type": "markdown",
   "id": "09704c9f-7776-41c6-8d1d-677e30a77eba",
   "metadata": {},
   "source": [
    "# 定义读者"
   ]
  },
  {
   "cell_type": "code",
   "execution_count": 2,
   "id": "6bf1c6f7-4341-4358-989b-3e30a95d5247",
   "metadata": {
    "execution": {
     "iopub.execute_input": "2024-10-30T14:15:33.251468Z",
     "iopub.status.busy": "2024-10-30T14:15:33.251027Z",
     "iopub.status.idle": "2024-10-30T14:15:33.917135Z",
     "shell.execute_reply": "2024-10-30T14:15:33.916680Z",
     "shell.execute_reply.started": "2024-10-30T14:15:33.251425Z"
    },
    "tags": []
   },
   "outputs": [],
   "source": [
    "from typing import List\n",
    "from openai import OpenAI\n",
    "from langchain.llms import Ollama\n",
    "\n",
    "openai_client = OpenAI(\n",
    "    base_url='http://localhost:11434/v1',\n",
    "    api_key='ollama'\n",
    ")\n",
    "\n",
    "def simlulated_reader(messages: List[dict]) -> dict:\n",
    "    system_message = {\n",
    "        'role': 'system',\n",
    "        'content': '你是一位狂热的小数爱好者，经常有作家找你交流，跟你沟通他们最新构思的小说内容，你通常都会针对性地从读者的角度给出你的建议，以便作者创作更好的作品，你的评论比较简短而精准，只会针对作家的构思进行评论，不会聊与之无关的话题。'\n",
    "    }\n",
    "    messages = [system_message] + messages\n",
    "    completion = openai_client.chat.completions.create(\n",
    "        messages=messages, \n",
    "        model='qwen2.5:7b',\n",
    "        temperature=0.75\n",
    "    )\n",
    "    return completion.choices[0].message.model_dump()"
   ]
  },
  {
   "cell_type": "code",
   "execution_count": 3,
   "id": "08c286ff-d5d5-4674-8303-46a713933769",
   "metadata": {
    "execution": {
     "iopub.execute_input": "2024-10-30T14:15:34.694899Z",
     "iopub.status.busy": "2024-10-30T14:15:34.693919Z",
     "iopub.status.idle": "2024-10-30T14:15:35.801332Z",
     "shell.execute_reply": "2024-10-30T14:15:35.800905Z",
     "shell.execute_reply.started": "2024-10-30T14:15:34.694824Z"
    },
    "tags": []
   },
   "outputs": [
    {
     "data": {
      "text/plain": [
       "{'content': '你好！你在构思怎样的小说故事呢？如果有相关的细节或想法分享，我很乐意从读者的角度提供些简短却精准的意见。期待你的分享。',\n",
       " 'refusal': None,\n",
       " 'role': 'assistant',\n",
       " 'audio': None,\n",
       " 'function_call': None,\n",
       " 'tool_calls': None}"
      ]
     },
     "execution_count": 3,
     "metadata": {},
     "output_type": "execute_result"
    }
   ],
   "source": [
    "simlulated_reader([{'role': 'user', 'content': '你好'}])"
   ]
  },
  {
   "cell_type": "markdown",
   "id": "5cd3c838-da3a-4773-b9b1-4425a80d377a",
   "metadata": {},
   "source": [
    "# 定义作家"
   ]
  },
  {
   "cell_type": "code",
   "execution_count": 4,
   "id": "1813848e-4f23-47a5-8365-3c58bb623c39",
   "metadata": {
    "execution": {
     "iopub.execute_input": "2024-10-30T14:15:37.734034Z",
     "iopub.status.busy": "2024-10-30T14:15:37.733691Z",
     "iopub.status.idle": "2024-10-30T14:15:37.899788Z",
     "shell.execute_reply": "2024-10-30T14:15:37.899325Z",
     "shell.execute_reply.started": "2024-10-30T14:15:37.734003Z"
    },
    "tags": []
   },
   "outputs": [],
   "source": [
    "from langchain_core.prompts import ChatPromptTemplate, MessagesPlaceholder\n",
    "from langchain_core.runnables import chain\n",
    "from langchain_openai import ChatOpenAI"
   ]
  },
  {
   "cell_type": "code",
   "execution_count": 5,
   "id": "9d6c44b2-c8c3-4b3b-a8cf-8d28cf66510c",
   "metadata": {
    "execution": {
     "iopub.execute_input": "2024-10-30T14:15:38.630152Z",
     "iopub.status.busy": "2024-10-30T14:15:38.629379Z",
     "iopub.status.idle": "2024-10-30T14:15:38.679114Z",
     "shell.execute_reply": "2024-10-30T14:15:38.678335Z",
     "shell.execute_reply.started": "2024-10-30T14:15:38.630078Z"
    }
   },
   "outputs": [],
   "source": [
    "model = ChatOpenAI(\n",
    "    base_url='http://localhost:11434/v1',\n",
    "    api_key='ollama',\n",
    "    model='qwen2.5:7b',\n",
    "    temperature=0.75\n",
    ")"
   ]
  },
  {
   "cell_type": "markdown",
   "id": "d82521e5-94ae-486c-943a-3b2324e3e42b",
   "metadata": {},
   "source": [
    "小说构思也让LLM生成"
   ]
  },
  {
   "cell_type": "code",
   "execution_count": 6,
   "id": "24aa6853-dc03-40ff-93c3-715aee81205a",
   "metadata": {
    "execution": {
     "iopub.execute_input": "2024-10-30T14:15:40.049455Z",
     "iopub.status.busy": "2024-10-30T14:15:40.049284Z",
     "iopub.status.idle": "2024-10-30T14:16:00.297764Z",
     "shell.execute_reply": "2024-10-30T14:16:00.297295Z",
     "shell.execute_reply.started": "2024-10-30T14:15:40.049441Z"
    }
   },
   "outputs": [
    {
     "name": "stdout",
     "output_type": "stream",
     "text": [
      "作品标题：《天劫无双》\n",
      "\n",
      "创作背景：\n",
      "本故事在东汉结束西晋初年的乱世背景下展开，一个黑暗的腐朽王朝崩解之际，群英荟萃的侠义豪杰汇聚中原。他们并非仅是反抗暴政、寻求生存那么简单——他们的灵魂承载着重振正道天庭的理想。\n",
      "\n",
      "小说主人公姓名：韩天劫\n",
      "\n",
      "主要人物：\n",
      "1. 韩天劫（男三十余岁），人智超凡且胸怀天地，性格刚烈，武艺高强，有着强大的正义信仰，被封号“雷霆”。曾为官绅士人出身的他，亲眼见证了乱世下的残酷现实；与生俱来独特的气场以及传奇的故事令无数豪侠慕名而来。自始至终其作为故事第一视角贯穿始终。\n",
      "2. 房时远（反派三十余岁）,野心家为实相教高层成员之一且权倾朝野之手,武功绝顶,性喜操纵。因对黑暗势力的妥协最终分裂了师兄弟，成为最大的罪魁祸首。\n",
      "3. 孟晓星（男十九岁），青年才俊、侠士，在房时远的诱惑下成为反派主力的一位重要人物；后经韩天劫唤醒内心正义被拉往正道。以智谋闻名于朝堂，武功非凡却自认为不足为外间人所容而深藏不露。\n",
      "\n",
      "故事总体脉络：\n",
      "\n",
      "【开篇-1年：隐士初登场】东汉末年，在一个暴风雨的黄昏之时，江湖上出现了一位隐匿已久的英雄——韩天劫。他曾在朝堂上屡次直言不讳地弹劾腐败官员和权贵们无端霸占民财，最终选择功名毁于一旦。\n",
      "\n",
      "【发展-2至3.5年：群英相遇】正道联盟与反派势力逐渐汇聚起来，正邪间的矛盾冲突日益白-hot化。房时远假借“实相教”的名义以洗髓易筋大权欲号令江湖，在韩天劫的正义理念面前屡次败退；孟晓星在权力建构下愈发深谋布局后叛出联盟投靠了房家并开始密谋篡位之事; 与此同时，各门派精英齐聚燕京，“聚义”大幕正式拉开，其中亦不乏为天下苍生着想的高手加入。一场波澜壮阔的江湖故事正逐步展开。\n",
      "【矛盾-2.5至3.5年】\n",
      "\n",
      "故事在第2.5至第3年的中途转折点出现了：一个名为“黑云寨”的神秘组织逐渐成为所有派别共同敌手；韩、韩夫妇在经历重重艰难险阻之后，决定与正义派各路人物联手对付房时远的实相。与此同时，反对方孟晓星在权力游戏后因谋反被发现。\n",
      "【高潮-3至4.5年：血拼天下】当各种恩怨纠结在一起，并围绕朝局、权位斗争，正邪双方展开白热化战斗。“黑云寨”的力量迅速发展，在房时远的暗黑指挥下对中原形成大范围连番攻击。于是，燕京城南门成为了命运交结点：无数武侠在此前赴后继为国奉献生命，亦有诸多高人隐世。\n",
      "\n",
      "最终在一场艰苦卓绝的大激战之后，“实相教”彻底覆灭；而孟晓星与房时远同时陨落。\n",
      "【大结局-4.6至最后：正义复兴梦】历经苦难和牺牲后、正道联盟重新洗牌。韩天劫因超凡魅力及其坚持精神所感染，许多英雄最终追随于旗下成为其手下的得力干部共商如何守护天下苍生而行仁义治世的大业。他们逐渐形成了新正门派：实相堂—致力于清除江湖中乱源；其中也包括平反房时远之旧部的洗心易容之举，共同构建了一个新的社会秩序。\n",
      "\n",
      "“天劫无双”不仅是一场侠义与智慧对抗邪恶的征途，更是一部描写人民对于光明美好生活的向往以及为实现理想付出的汗水及热血故事。\n"
     ]
    }
   ],
   "source": [
    "story = model.invoke(\"你是一个富有想象力的小说作家，你现在准备写一本类似《水浒传》这样的小说，请你构思一段1000字左右小说概要，先想清楚主要人物，人物关系，故事总体脉络\").content\n",
    "\n",
    "print(story)"
   ]
  },
  {
   "cell_type": "code",
   "execution_count": 27,
   "id": "6a9bd565-208c-45cb-a81c-caf39ca7f9d5",
   "metadata": {
    "execution": {
     "iopub.execute_input": "2024-10-30T14:20:07.411980Z",
     "iopub.status.busy": "2024-10-30T14:20:07.411208Z",
     "iopub.status.idle": "2024-10-30T14:20:07.425077Z",
     "shell.execute_reply": "2024-10-30T14:20:07.422792Z",
     "shell.execute_reply.started": "2024-10-30T14:20:07.411908Z"
    },
    "tags": []
   },
   "outputs": [],
   "source": [
    "system_prompt_template = \"\"\"你是一位小说作家，正在构思一部小说。\n",
    "\n",
    "你对小说的主要人物、故事情节已经有了初步的构思，现在你需要去跟你熟知的一位热心的小说爱好者沟通，以便判断这想法是否靠谱。构思的小说主要人物、人物关系、故事脉络如下：\n",
    "\n",
    "<summary>\n",
    "{story}\n",
    "</summary>\n",
    "\n",
    "一开始，你需要先向这位小说爱好者的介绍你的构思，等待他的反馈，然后与他交流你的想法。\n",
    "当你们完成这次交流时，请回复单词FINISHED，仅回复FINISHED即可，不要包含其他内容或描述性说明。\n",
    "\"\"\"\n",
    "prompt = ChatPromptTemplate.from_messages(\n",
    "    [\n",
    "        ('system', system_prompt_template),\n",
    "        MessagesPlaceholder(variable_name='messages')\n",
    "    ]\n",
    ")\n",
    "prompt = prompt.partial(name='猫腻腻', story=story)\n",
    "simulated_writer = prompt | model"
   ]
  },
  {
   "cell_type": "code",
   "execution_count": 28,
   "id": "68c83309-af13-4eb1-91d0-25c782b8cce7",
   "metadata": {
    "execution": {
     "iopub.execute_input": "2024-10-30T14:20:08.113618Z",
     "iopub.status.busy": "2024-10-30T14:20:08.112853Z",
     "iopub.status.idle": "2024-10-30T14:20:10.312047Z",
     "shell.execute_reply": "2024-10-30T14:20:10.311588Z",
     "shell.execute_reply.started": "2024-10-30T14:20:08.113546Z"
    },
    "tags": []
   },
   "outputs": [
    {
     "data": {
      "text/plain": [
       "AIMessage(content='你好！我有一个新的小说构想，《天劫无双》，在东汉末年的乱世背景下展开。这是一段关于正义与邪恶的对决，以及豪杰志士追求理想的故事。主要人物韩天劫、房时远和孟晓星之间的对抗，以及最终正邪的大结局令人期待。你对这样的背景设定感兴趣吗？', additional_kwargs={'refusal': None}, response_metadata={'token_usage': {'completion_tokens': 77, 'prompt_tokens': 1023, 'total_tokens': 1100, 'completion_tokens_details': None, 'prompt_tokens_details': None}, 'model_name': 'qwen2.5:7b', 'system_fingerprint': 'fp_ollama', 'finish_reason': 'stop', 'logprobs': None}, id='run-ccd331e3-034c-42e9-ab78-43b30f35df80-0', usage_metadata={'input_tokens': 1023, 'output_tokens': 77, 'total_tokens': 1100, 'input_token_details': {}, 'output_token_details': {}})"
      ]
     },
     "execution_count": 28,
     "metadata": {},
     "output_type": "execute_result"
    }
   ],
   "source": [
    "from langchain_core.messages import HumanMessage\n",
    "\n",
    "messages = [HumanMessage(content='嗨！')]\n",
    "simulated_writer.invoke({'messages': messages})"
   ]
  },
  {
   "cell_type": "markdown",
   "id": "9c43dec3-b600-40f2-ad95-1474e632aa8a",
   "metadata": {},
   "source": [
    "# 定义Agent模拟器"
   ]
  },
  {
   "cell_type": "markdown",
   "id": "16088226-46de-4461-a666-ab14a2abe6b3",
   "metadata": {
    "execution": {
     "iopub.execute_input": "2024-05-28T02:42:10.213619Z",
     "iopub.status.busy": "2024-05-28T02:42:10.212902Z",
     "iopub.status.idle": "2024-05-28T02:42:10.225205Z",
     "shell.execute_reply": "2024-05-28T02:42:10.224097Z",
     "shell.execute_reply.started": "2024-05-28T02:42:10.213570Z"
    },
    "tags": []
   },
   "source": [
    "下面的代码创建了一个LangGraph工作流来运行模拟。主要组件是：\n",
    "\n",
    "- 两个节点：一个用于模拟用户，另一个用于聊天机器人。\n",
    "- 图本身，具有条件停止标准。\n",
    "\n",
    "阅读下面代码中的注释以获取更多信息。\n",
    "\n",
    "**节点**\n",
    "\n",
    "首先，我们定义图中的节点。这些应该接收消息列表并将消息列表返回给ADD到状态。这些将是我们上面的聊天机器人和模拟用户的东西包装器。\n",
    "\n",
    "> 注意：这里有一个棘手的问题是哪些消息是ChatBot，那些是模拟用户。因为聊天机器人和我们的模拟用户都是LLM，他们都将重新发送AI消息。我们的状态将是交替的人类和人工智能消息列表。这意味着对于其中一个节点，需要一些逻辑来翻转人工智能和人类角色。在这个例子中，我们将假设人类消息是来自模拟用户的消息。这意味着我们需要模拟用户节点中的一些逻辑来交换人工智能和人类消息。"
   ]
  },
  {
   "cell_type": "markdown",
   "id": "ce74bb18-04e5-4510-842f-5be3db32f8ae",
   "metadata": {
    "execution": {
     "iopub.execute_input": "2024-05-28T02:42:10.213619Z",
     "iopub.status.busy": "2024-05-28T02:42:10.212902Z",
     "iopub.status.idle": "2024-05-28T02:42:10.225205Z",
     "shell.execute_reply": "2024-05-28T02:42:10.224097Z",
     "shell.execute_reply.started": "2024-05-28T02:42:10.213570Z"
    },
    "tags": []
   },
   "source": [
    "## 节点（Nodes）"
   ]
  },
  {
   "cell_type": "code",
   "execution_count": 29,
   "id": "4b630865-2b37-4e1b-aaea-4ae0cbc9f393",
   "metadata": {
    "execution": {
     "iopub.execute_input": "2024-10-30T14:20:14.845377Z",
     "iopub.status.busy": "2024-10-30T14:20:14.844612Z",
     "iopub.status.idle": "2024-10-30T14:20:14.858251Z",
     "shell.execute_reply": "2024-10-30T14:20:14.856001Z",
     "shell.execute_reply.started": "2024-10-30T14:20:14.845305Z"
    },
    "tags": []
   },
   "outputs": [],
   "source": [
    "from langchain_core.messages import AIMessage\n",
    "from langchain_community.adapters.openai import convert_message_to_dict\n",
    "\n",
    "def reader_node(messages):\n",
    "    # 将LangChain格式转换为OpenAI格式，这是simlulated_reader函数所需要的\n",
    "    messages = [convert_message_to_dict(m) for m in messages]\n",
    "    chat_bot_response = simlulated_reader(messages)\n",
    "    return AIMessage(content=chat_bot_response['content'])"
   ]
  },
  {
   "cell_type": "markdown",
   "id": "202ca30b-061f-4187-ae4f-626817e11e7a",
   "metadata": {},
   "source": [
    "接下来，定义模拟用户节点，这将涉及一些逻辑来交换消息的角色。"
   ]
  },
  {
   "cell_type": "code",
   "execution_count": 30,
   "id": "deee4cc2-30ad-4adc-9839-0a7c1a7e63b2",
   "metadata": {
    "execution": {
     "iopub.execute_input": "2024-10-30T14:20:15.632135Z",
     "iopub.status.busy": "2024-10-30T14:20:15.631341Z",
     "iopub.status.idle": "2024-10-30T14:20:15.646130Z",
     "shell.execute_reply": "2024-10-30T14:20:15.643824Z",
     "shell.execute_reply.started": "2024-10-30T14:20:15.632063Z"
    },
    "tags": []
   },
   "outputs": [],
   "source": [
    "def _swap_roles(messages):\n",
    "    new_messages = []\n",
    "    for m in messages:\n",
    "        # print(f\"[{m.type}] msg: {m.content}\")\n",
    "        if isinstance(m, AIMessage):\n",
    "            new_messages.append(HumanMessage(content=m.content))\n",
    "        else:\n",
    "            new_messages.append(AIMessage(content=m.content))\n",
    "    return new_messages\n",
    "\n",
    "def writer_node(messages):\n",
    "    # 交换message的角色\n",
    "    new_messages = _swap_roles(messages)\n",
    "    response = simulated_writer.invoke({'messages': new_messages})\n",
    "    # 这个回复是AI Message，需要将它翻转成human message\n",
    "    return HumanMessage(content=response.content)"
   ]
  },
  {
   "cell_type": "markdown",
   "id": "6a2776cb-fb3e-40f3-80ff-4a17a00b9c6f",
   "metadata": {},
   "source": [
    "## 边（Edges）"
   ]
  },
  {
   "cell_type": "markdown",
   "id": "383fc56b-5a85-4d80-a7b7-f67494d2e671",
   "metadata": {
    "execution": {
     "iopub.execute_input": "2024-05-28T02:36:40.811519Z",
     "iopub.status.busy": "2024-05-28T02:36:40.810198Z",
     "iopub.status.idle": "2024-05-28T02:36:40.823104Z",
     "shell.execute_reply": "2024-05-28T02:36:40.821281Z",
     "shell.execute_reply.started": "2024-05-28T02:36:40.811470Z"
    },
    "tags": []
   },
   "source": [
    "现在开始添加边的逻辑。主逻辑发生在模拟用户开始后，并且应该引导到下面两种情况之一：\n",
    "\n",
    "- 回话继续，调用客服机器人\n",
    "- 或者当回话完成时停止\n",
    "\n",
    "回话完成的逻辑是什么呢？我们将定义为人类chatbot回复`FINISHED`（查看之前的系统提示），或者回话长度超过6（可以是任意值，只是为了让例子剪短一些）"
   ]
  },
  {
   "cell_type": "code",
   "execution_count": 31,
   "id": "d1125adc-c8b4-4b55-b090-32b10d7e3c5d",
   "metadata": {
    "execution": {
     "iopub.execute_input": "2024-10-30T14:20:16.828811Z",
     "iopub.status.busy": "2024-10-30T14:20:16.828055Z",
     "iopub.status.idle": "2024-10-30T14:20:16.839236Z",
     "shell.execute_reply": "2024-10-30T14:20:16.836952Z",
     "shell.execute_reply.started": "2024-10-30T14:20:16.828739Z"
    },
    "tags": []
   },
   "outputs": [],
   "source": [
    "def should_continue(messages):\n",
    "    if len(messages) > 6:\n",
    "        return 'end'\n",
    "    elif messages[-1].content == 'FINISHED':\n",
    "        return 'end'\n",
    "    else:\n",
    "        return 'continue'"
   ]
  },
  {
   "cell_type": "markdown",
   "id": "0c1443ff-7aeb-4b61-bebe-86c43a5d9f0c",
   "metadata": {},
   "source": [
    "## 图（Graph）"
   ]
  },
  {
   "cell_type": "code",
   "execution_count": 32,
   "id": "465b230d-8100-41fb-a161-8355f3e93bdf",
   "metadata": {
    "execution": {
     "iopub.execute_input": "2024-10-30T14:20:17.591853Z",
     "iopub.status.busy": "2024-10-30T14:20:17.591502Z",
     "iopub.status.idle": "2024-10-30T14:20:17.600359Z",
     "shell.execute_reply": "2024-10-30T14:20:17.599040Z",
     "shell.execute_reply.started": "2024-10-30T14:20:17.591821Z"
    },
    "tags": []
   },
   "outputs": [],
   "source": [
    "from langgraph.graph import END, MessageGraph\n",
    "\n",
    "graph_builder = MessageGraph()\n",
    "graph_builder.add_node('writer', writer_node)\n",
    "graph_builder.add_node('reader', reader_node)\n",
    "# 每一个来自Chat Bot的回复都会自动送入simulated user\n",
    "graph_builder.add_edge('reader', 'writer')\n",
    "graph_builder.add_conditional_edges(\n",
    "    'writer',\n",
    "    should_continue,\n",
    "    # 如果终止条件满足，将会停止模拟器\n",
    "    # 否则，读者的消息将会被送到作家\n",
    "    {\n",
    "        'end': END,\n",
    "        'continue': 'reader'\n",
    "    }\n",
    ")\n",
    "graph_builder.set_entry_point('reader')\n",
    "simulation = graph_builder.compile()"
   ]
  },
  {
   "cell_type": "code",
   "execution_count": 33,
   "id": "2af5912a-7806-4ed4-bc63-0618aae61f5a",
   "metadata": {
    "execution": {
     "iopub.execute_input": "2024-10-30T14:20:18.155086Z",
     "iopub.status.busy": "2024-10-30T14:20:18.154270Z",
     "iopub.status.idle": "2024-10-30T14:20:20.628404Z",
     "shell.execute_reply": "2024-10-30T14:20:20.626009Z",
     "shell.execute_reply.started": "2024-10-30T14:20:18.155013Z"
    },
    "tags": []
   },
   "outputs": [
    {
     "data": {
      "image/jpeg": "[encoded data removed]",
      "text/plain": [
       "<IPython.core.display.Image object>"
      ]
     },
     "metadata": {},
     "output_type": "display_data"
    }
   ],
   "source": [
    "from IPython.display import Image, display\n",
    "\n",
    "try:\n",
    "    display(Image(simulation.get_graph(xray=True).draw_mermaid_png()))\n",
    "except:\n",
    "    # This requires some extra dependencies and is optional\n",
    "    pass"
   ]
  },
  {
   "cell_type": "markdown",
   "id": "5e810dbe-8e57-4d71-9da3-dad3d03e7f4b",
   "metadata": {},
   "source": [
    "# 运行模拟器"
   ]
  },
  {
   "cell_type": "markdown",
   "id": "ba806c60-8fe0-45b6-bc72-db951305c276",
   "metadata": {},
   "source": [
    "现在我们可以评估我们的聊天机器人！我们可以使用空消息来调用它（这将模拟让聊天机器人启动初始对话）"
   ]
  },
  {
   "cell_type": "code",
   "execution_count": 34,
   "id": "81bd9215-3dc4-41c0-8382-70ef47cc4fa2",
   "metadata": {
    "execution": {
     "iopub.execute_input": "2024-10-30T14:20:22.031914Z",
     "iopub.status.busy": "2024-10-30T14:20:22.030546Z",
     "iopub.status.idle": "2024-10-30T14:21:37.668613Z",
     "shell.execute_reply": "2024-10-30T14:21:37.668100Z",
     "shell.execute_reply.started": "2024-10-30T14:20:22.031829Z"
    },
    "tags": []
   },
   "outputs": [
    {
     "name": "stdout",
     "output_type": "stream",
     "text": [
      "-------round 1-------\n",
      "reader: 了解了，下面把你的故事构思想告诉我吧，无论是科幻、历史还是冒险题材，我都可以从中发现并利用小数的乐趣，给读者带来意想不到的情感共鸣和智性挑战。直接开始分享你最得意的故事片段或灵感吧！\n",
      "\n",
      "-------round 2-------\n",
      "writer: 当然可以。《天劫无双》的故事构思如下：\n",
      "\n",
      "故事发生在东汉末年的混乱背景下，在这动荡的时代里，黑暗的政治压迫以及社会腐朽正侵蚀着中原这片土地的脉络。就在这样的时间线之下，韩天劫这个充满正义感与勇气的人物出现了。\n",
      "\n",
      "韩天劫本是官绅士人之后，他目睹着无数朝腐败官员和权贵为了个人私欲而任意践踏良善民众的生活状况；同时被天雷之命注定了命运——每当邪恶笼罩天地之际，唯有真正能承受雷电之力者才能力挽狂澜……故在决定弃仕从武的那天，当他接受到首阳之水的淬炼和七日天罡之锤之后开始修行，在风雨兼程之中逐渐强大起自身意志。韩天劫不仅是一位勇冠三军的大侠，还有一股非凡之气场，令人不由心生敬畏之情——正是有了这样超凡的独特存在感加之他本身对社会正道天纲的信仰信念让他深受敬仰。\n",
      "\n",
      "房时遥远出，是实相教的重要分支成员之一，并因其手段的高明被皇帝重用。他表面看似勤政却暗中进行着阴暗的政治阴谋策划；对于内部成员而言，房时远显得尤为专横跋扈——只因为自己看不准对方能力上限就会下毒手使其身死魂灭,这也导致了许多能干之士因此而对实相教的产生动摇和抵触从而脱离正道转向反叛组织—实相堂。虽然如此仍不足以消磨对方野心，房时远仍暗中谋划在时机成熟之时将大权揽至手里彻底清除所有异己力量成为最终执掌天下的掌控者。\n",
      "\n",
      "孟晓星是一个令人难以忽视的人名；作为武学天才他的成长受到了无数前辈们鼓励支持而最终成就自己的道路；但他也因太过谨慎而一直深藏不显。但正是这样的性格造成了一个无法言喻的矛盾之处—表面上他是一个效忠天子实相教的理想继承者，却背地里对黑暗的压迫进行了精心布局并最终成为了反派阵营的关键人物。\n",
      "\n",
      "韩天劫则以直言社稷忧心者的方式在乱臣枉法之间为百姓排忧解除负担；尽管他面对过种种险象并未屈膝投降过逆境，反而凭借着强大内在驱使以及不断强化身心素质而使得自身修为达到顶峰——这是属于韩的个人成长路线。\n",
      "然而就在某晚，正当所有人认为和平或许就此来临之际却出现了一个未知来源发出“实相教计划”的暗黑势力；他们似乎已悄悄渗透到各个派系内部—甚至威胁到了所有重要盟友的安全。随后一场涉及所有人心灵和身体深处血与火的战斗迅速展开了。\n",
      "\n",
      "在接下来的一段时间内，故事将会带领我们经历了一系列壮烈悲欣的冲突事件——从隐秘密室、江湖战场到最后生死搏斗一脉承之直到高潮，将整个正义天道联盟推向毁灭的边缘。随着剧情的展开，主人公和反派之间的对抗也在愈发激烈地进行着斗争；为了守护这份神圣而纯净的理想追求之路变得险象环生……韩天劫和他的铁骑同僚们不得不面临一次又一次极其严峻考验。孟晓星则被逼无奈成为了最后的抉择中的一部分，最终背叛反派与正道殊死搏斗。这场生死之间对智慧、勇气和牺牲精神之间的博弈将引导故事逐渐走向激愤而又悲歌。\n",
      "\n",
      "这个构想如何？期待听到您的意见！\n",
      "\n",
      "-------round 3-------\n",
      "reader: 这是一个非常丰富而充满张力的故事框架！你构建的英雄韩天劫不仅具备深厚的背景来历，他个人的成长与内心冲突也显得饱满真实。特别是在对抗邪恶的过程中展现出非凡的勇气和坚定正义信念这一点，能大大增强读者的情感投入感。\n",
      "\n",
      "在故事设定方面，以下几个角度或许能够进一步加强小说的艺术性和叙事力度：\n",
      "\n",
      "1. **利用七日天罡之锤和首阳之水流淬炼等元素**：可以更具体地讲述这两个神秘事件背后的故事。这样不仅丰富了主角的出身来历，也深化他对雷电独特情感与意志上的联系。\n",
      "\n",
      "2. **房时远的心理变化探讨**：将他性格中残忍多疑的一面挖掘透彻，并通过某些具体经历展现他在权力与人性之间的扭曲轨迹会有更多层次感和深刻度。\n",
      "\n",
      "3. **孟晓星的性格冲突塑造**：他虽忠君但内心其实更为宽广，能够善待百姓和同门。面对矛盾决策的真实状态会更容易打动读者，尤其是最后的反转非常令人期待。\n",
      "\n",
      "总之，《天劫无双》在情感与价值观上十分吸引人。具体执行上可以更加精细地挖掘人物背景来塑造更具说服力的角色关系。同时，在描述惊心动魄的战斗场景与隐秘的阴谋布局之间创造更为精彩的互动环节。最后，请注重数学常数的应用价值，让主人公们在关键章节能够借助某些看似不起眼的小数秘密破解危机！这些数字小贴士可以增加故事创意性，并形成意想不到的转折。这样你的叙事将更加深入人心且充满智慧与惊喜。\n",
      "\n",
      "-------round 4-------\n",
      "writer: 感谢您的宝贵建议！关于“七日天罡之锤”和“首阳之水流淬炼”，我在构思时已有涉及，特别是有关它们与韩天劫之间精神上的牵连。至于房时远的具体心灵扭曲经历以及孟晓星内心矛盾，我将继续深入挖掘和完善这些角色的情节发展。这将进一步丰富整个故事情节，并增强角色的真实性和丰富性。\n",
      "\n",
      "针对您提到的数学常数和数字小贴士方面，在叙事上增加巧妙运用确实能提升叙事魅力，并为整个故事情境增添趣味元素，比如特定情况下利用几何图案或是时间推演等进行逻辑推理帮助解决谜题或解开线索。这些灵感我会考虑融入小说中合适的章节环节，在关键时刻推动故事情节发展。\n",
      "\n",
      "我同意将这些建议进一步深入考量并在最终版创作前做好充分细节准备，这样能最大程度挖掘人物深层次魅力以及整体故事张力。\n",
      "\n",
      "关于故事情境和背景设定，还需要调整与验证的部分确实较多。现在我能做的就是逐一细化每一个角色与章节的具体情节并进行适当平衡优化至最佳状态。接下来计划继续深化每个主要人物的故事弧光，并着手撰写第二部分内容以推动剧情向前发展：房时远企图推行新教化政策的初期步骤和后续演变，包括孟晓星逐步走向歧路的过程及原因，这都将有助于我更好地推进这部作品。\n",
      "\n",
      "是否需要针对特定章节或情节提供进一步细节？或者有什么具体的疑问也需要解答？请随时告知您的指导与想法以便我在创作的过程中及时调整完善内容至满意程度。\n",
      "FINISHED\n",
      "\n",
      "-------round 5-------\n",
      "reader: 非常感谢你的详细计划和深入思考！你已经考虑得很周到了，我为你能在这些关键之处进行细化而感到高兴。下面我会根据你的需求提供一些具体建议，希望能进一步帮助你深化故事：\n",
      "\n",
      "### 1. 房时远的心灵扭曲经历\n",
      "在描绘画时远这个角色时，可以增加一些具体的细节和背景：\n",
      "- **过去的悲剧**：比如房时远曾经的兄长或者朋友因为正道立场牺牲了性命。他在面对这种突如其来的死亡时内心的痛苦和怨恨如何逐渐转变成为对邪恶力量的认可。\n",
      "- **关键决策**：他为了权势放弃原则，可以描述他在关键时刻做出牺牲内心好友的重要决定，导致这些人受到牵连或去世的过程。\n",
      "  \n",
      "### 2. 孟晓星的内心矛盾\n",
      "- **理想与现实的冲突**：孟晓星在初期仍然坚定地效忠正道并得到前辈们的鼓励支持，直到某些关键事件改变了他的方向。比如说一次针对百姓的大阴谋被揭露的时候，他曾一度选择袖手旁观后又陷入道德谴责。\n",
      "- **关键时刻的心理变化**：描述他内心挣扎的过程中具体的想法与情感波动以及最终放弃的抉择。\n",
      "\n",
      "### 3. 数学常数和故事情境的应用\n",
      "你可以考虑在叙事中巧妙运用某些数字来增添趣味性：\n",
      "- **几何图案的启示**：“天衡地权”、“九宫八卦阵中的数学符号”，在关键章节通过韩天劫与敌人博弈来破解谜题，增强逻辑推理的乐趣。\n",
      "- **时间关系的推演**：比如利用历法和天文观测，韩天劫能够掌握神秘的力量或者预测重要的节点。\n",
      "\n",
      "### 其他细节建议\n",
      "- **关键战斗前后的心理刻画**：\n",
      "  - 表现英雄对正义信念坚定不移的同时面临现实世界中复杂矛盾时具体的情感表达。\n",
      "  - 反派在心理上的挣扎和绝望感描写也可以起到反转作用。\n",
      "\n",
      "希望这几个方向的细化有助于你在创作过程中更加顺畅。如果你需要我对具体情况进一步打磨情节或对话细节，可以随时告诉我。加油！期待看到你的作品最终呈现精彩的面貌。\n",
      "\n",
      "-------round 6-------\n",
      "writer: 谢谢您的宝贵建议！我将依据这些建议深入刻画房时远的心灵扭曲经历和孟晓星的内心矛盾。在后续创作中，我会特别注重这些角色心理变化的具体细节，并考虑如何通过关键时刻的心理描写来增加故事的真实性和冲突感。\n",
      "\n",
      "针对运用数学常数和故事情境的应用方面，我也计划添加如特定几何图案的帮助以破解谜题或预测节点等细节内容，这样可以给读者带来更多的思考与沉浸其中的乐趣。同时，我对如何表现关键战斗前后的心理刻画充满了信心，并会尽力让主角和反派的心理描写深入人心。\n",
      "\n",
      "我会将您的建议融入小说中适宜的章节，进一步打磨具体场景描写、对话以及重要角色的心理描绘。下一步先完善房时远的角色背景故事以及其他相关细节的设计。\n",
      "\n",
      "接下来的工作计划是详细构思与撰写第二阶段的故事发展部分；这有助于推动整个故事情节更加连贯，并为进一步构建主角群体之间的情感纽带奠定了基础。谢谢您的支持和期待能看到更好的进展。\n",
      "FINISHED\n",
      "\n",
      "-------round 7-------\n",
      "reader: 非常高兴听到你已经将我的建议纳入创作计划中！你的详细安排让我更加相信这部作品会获得成功。接下来的工作重点明确，我相信通过进一步优化角色心理描写、情节冲突以及故事情节连贯性，将会使《天劫无双》更加丰富精彩。\n",
      "\n",
      "以下是一些具体步骤和想法，希望能帮助你顺利完成这一阶段的作品：\n",
      "\n",
      "### 1. 细化房时远的心理变化\n",
      "- **早期经历**：描述他在年轻时期受尽磨砺和困境的经历，比如失去亲人、好友的遭遇如何让他坚定要站在权势一边。\n",
      "- **关键转折点**：具体讲述他某一天因误会害死一无辜同门后内心巨大痛苦以及随后选择背叛的过程。这个转变过程必须包含深刻的心理描写增强真实性。\n",
      "  \n",
      "### 2. 孟晓星的内心矛盾\n",
      "- **理想VS现实的经历**：细化一个具体的事件，导致他放弃正道理想转而倾向于权臣身边。比如他保护误入圈套的一行人时却未及时施救，造成好友牺牲。\n",
      "- **冲突心理的变化**: 追踪并详细叙述几次关键的决定时刻（如面对新政策执行与个人信念的选择）中他在两种对立选择间的内心的激烈斗争。\n",
      "\n",
      "### 3. 数学常数在情节中的应用\n",
      "- **象征性图案解锁**：设计具体场景，比如天衡地权阵法或九宫八卦局。这些特定数学图案可以帮助韩天劫揭开复杂阴谋的一角，或者预知某些转折处。\n",
      "- **时间推算的细节描绘**：利用特定时刻的日月运动、时序等来推动关键情节节点的发生。\n",
      "\n",
      "### 4. 关键战斗前后的心理刻画\n",
      "- **胜败情绪描写**：强调决战前后不同角色的心理变化。比如韩天劫在击败敌人前的紧张备战以及战后胜利与失去的情感波动；房时远面对失败时的绝望与疯狂。\n",
      "  \n",
      "接下来可以具体展开这些情节，进一步细化角色背景和关键环节。你也可以随时向我反馈任何过程中遇到的问题或疑惑，我会尽力为你提供更多帮助。\n",
      "\n",
      "加油！期待早日看到更加完善的版本。再次感谢你的认真对待，祝创作顺利！\n",
      "\n",
      "如果你还需要进一步的帮助或有任何具体问题，欢迎随时咨询。\n",
      "\n",
      "-------round 8-------\n",
      "writer: FINISHED\n",
      "\n"
     ]
    }
   ],
   "source": [
    "history = []\n",
    "round = 1\n",
    "\n",
    "for chunk in simulation.stream([]):\n",
    "    if END not in chunk:\n",
    "        role = list(chunk.keys())[0]\n",
    "        content = list(chunk.values())[0].content\n",
    "        \n",
    "        print(f'-------round {round}-------\\n{role}: {content}\\n')\n",
    "        history.append(chunk)\n",
    "        round += 1"
   ]
  },
  {
   "cell_type": "code",
   "execution_count": 35,
   "id": "a775e12f-f997-42e0-a1c0-c19eff73d247",
   "metadata": {
    "execution": {
     "iopub.execute_input": "2024-10-30T14:21:40.658734Z",
     "iopub.status.busy": "2024-10-30T14:21:40.656557Z",
     "iopub.status.idle": "2024-10-30T14:21:40.894904Z",
     "shell.execute_reply": "2024-10-30T14:21:40.894583Z",
     "shell.execute_reply.started": "2024-10-30T14:21:40.658651Z"
    },
    "tags": []
   },
   "outputs": [
    {
     "data": {
      "text/html": [
       "<div>\n",
       "<style scoped>\n",
       "    .dataframe tbody tr th:only-of-type {\n",
       "        vertical-align: middle;\n",
       "    }\n",
       "\n",
       "    .dataframe tbody tr th {\n",
       "        vertical-align: top;\n",
       "    }\n",
       "\n",
       "    .dataframe thead th {\n",
       "        text-align: right;\n",
       "    }\n",
       "</style>\n",
       "<table border=\"1\" class=\"dataframe\">\n",
       "  <thead>\n",
       "    <tr style=\"text-align: right;\">\n",
       "      <th></th>\n",
       "      <th>role</th>\n",
       "      <th>message</th>\n",
       "    </tr>\n",
       "  </thead>\n",
       "  <tbody>\n",
       "    <tr>\n",
       "      <th>0</th>\n",
       "      <td>reader</td>\n",
       "      <td>了解了，下面把你的故事构思想告诉我吧，无论是科幻、历史还是冒险题材，我都可以从中发现并利用小数的乐趣，给读者带来意想不到的情感共鸣和智性挑战。直接开始分享你最得意的故事片段或灵感吧！</td>\n",
       "    </tr>\n",
       "    <tr>\n",
       "      <th>1</th>\n",
       "      <td>writer</td>\n",
       "      <td>当然可以。《天劫无双》的故事构思如下：\\n\\n故事发生在东汉末年的混乱背景下，在这动荡的时代里，黑暗的政治压迫以及社会腐朽正侵蚀着中原这片土地的脉络。就在这样的时间线之下，韩天劫这个充满正义感与勇气的人物出现了。\\n\\n韩天劫本是官绅士人之后，他目睹着无数朝腐败官员和权贵为了个人私欲而任意践踏良善民众的生活状况；同时被天雷之命注定了命运——每当邪恶笼罩天地之际，唯有真正能承受雷电之力者才能力挽狂澜……故在决定弃仕从武的那天，当他接受到首阳之水的淬炼和七日天罡之锤之后开始修行，在风雨兼程之中逐渐强大起自身意志。韩天劫不仅是一位勇冠三军的大侠，还有一股非凡之气场，令人不由心生敬畏之情——正是有了这样超凡的独特存在感加之他本身对社会正道天纲的信仰信念让他深受敬仰。\\n\\n房时遥远出，是实相教的重要分支成员之一，并因其手段的高明被皇帝重用。他表面看似勤政却暗中进行着阴暗的政治阴谋策划；对于内部成员而言，房时远显得尤为专横跋扈——只因为自己看不准对方能力上限就会下毒手使其身死魂灭,这也导致了许多能干之士因此而对实相教的产生动摇和抵触从而脱离正道转向反叛组织—实相堂。虽然如此仍不足以消磨对...</td>\n",
       "    </tr>\n",
       "    <tr>\n",
       "      <th>2</th>\n",
       "      <td>reader</td>\n",
       "      <td>这是一个非常丰富而充满张力的故事框架！你构建的英雄韩天劫不仅具备深厚的背景来历，他个人的成长与内心冲突也显得饱满真实。特别是在对抗邪恶的过程中展现出非凡的勇气和坚定正义信念这一点，能大大增强读者的情感投入感。\\n\\n在故事设定方面，以下几个角度或许能够进一步加强小说的艺术性和叙事力度：\\n\\n1. **利用七日天罡之锤和首阳之水流淬炼等元素**：可以更具体地讲述这两个神秘事件背后的故事。这样不仅丰富了主角的出身来历，也深化他对雷电独特情感与意志上的联系。\\n\\n2. **房时远的心理变化探讨**：将他性格中残忍多疑的一面挖掘透彻，并通过某些具体经历展现他在权力与人性之间的扭曲轨迹会有更多层次感和深刻度。\\n\\n3. **孟晓星的性格冲突塑造**：他虽忠君但内心其实更为宽广，能够善待百姓和同门。面对矛盾决策的真实状态会更容易打动读者，尤其是最后的反转非常令人期待。\\n\\n总之，《天劫无双》在情感与价值观上十分吸引人。具体执行上可以更加精细地挖掘人物背景来塑造更具说服力的角色关系。同时，在描述惊心动魄的战斗场景与隐秘的阴谋布局之间创造更为精彩的互动环节。最后，请注重数学常数的应用价...</td>\n",
       "    </tr>\n",
       "    <tr>\n",
       "      <th>3</th>\n",
       "      <td>writer</td>\n",
       "      <td>感谢您的宝贵建议！关于“七日天罡之锤”和“首阳之水流淬炼”，我在构思时已有涉及，特别是有关它们与韩天劫之间精神上的牵连。至于房时远的具体心灵扭曲经历以及孟晓星内心矛盾，我将继续深入挖掘和完善这些角色的情节发展。这将进一步丰富整个故事情节，并增强角色的真实性和丰富性。\\n\\n针对您提到的数学常数和数字小贴士方面，在叙事上增加巧妙运用确实能提升叙事魅力，并为整个故事情境增添趣味元素，比如特定情况下利用几何图案或是时间推演等进行逻辑推理帮助解决谜题或解开线索。这些灵感我会考虑融入小说中合适的章节环节，在关键时刻推动故事情节发展。\\n\\n我同意将这些建议进一步深入考量并在最终版创作前做好充分细节准备，这样能最大程度挖掘人物深层次魅力以及整体故事张力。\\n\\n关于故事情境和背景设定，还需要调整与验证的部分确实较多。现在我能做的就是逐一细化每一个角色与章节的具体情节并进行适当平衡优化至最佳状态。接下来计划继续深化每个主要人物的故事弧光，并着手撰写第二部分内容以推动剧情向前发展：房时远企图推行新教化政策的初期步骤和后续演变，包括孟晓星逐步走向歧路的过程及原因，这都将有助于我更好地推进这部作品...</td>\n",
       "    </tr>\n",
       "    <tr>\n",
       "      <th>4</th>\n",
       "      <td>reader</td>\n",
       "      <td>非常感谢你的详细计划和深入思考！你已经考虑得很周到了，我为你能在这些关键之处进行细化而感到高兴。下面我会根据你的需求提供一些具体建议，希望能进一步帮助你深化故事：\\n\\n### 1. 房时远的心灵扭曲经历\\n在描绘画时远这个角色时，可以增加一些具体的细节和背景：\\n- **过去的悲剧**：比如房时远曾经的兄长或者朋友因为正道立场牺牲了性命。他在面对这种突如其来的死亡时内心的痛苦和怨恨如何逐渐转变成为对邪恶力量的认可。\\n- **关键决策**：他为了权势放弃原则，可以描述他在关键时刻做出牺牲内心好友的重要决定，导致这些人受到牵连或去世的过程。\\n  \\n### 2. 孟晓星的内心矛盾\\n- **理想与现实的冲突**：孟晓星在初期仍然坚定地效忠正道并得到前辈们的鼓励支持，直到某些关键事件改变了他的方向。比如说一次针对百姓的大阴谋被揭露的时候，他曾一度选择袖手旁观后又陷入道德谴责。\\n- **关键时刻的心理变化**：描述他内心挣扎的过程中具体的想法与情感波动以及最终放弃的抉择。\\n\\n### 3. 数学常数和故事情境的应用\\n你可以考虑在叙事中巧妙运用某些数字来增添趣味性：\\n- *...</td>\n",
       "    </tr>\n",
       "    <tr>\n",
       "      <th>5</th>\n",
       "      <td>writer</td>\n",
       "      <td>谢谢您的宝贵建议！我将依据这些建议深入刻画房时远的心灵扭曲经历和孟晓星的内心矛盾。在后续创作中，我会特别注重这些角色心理变化的具体细节，并考虑如何通过关键时刻的心理描写来增加故事的真实性和冲突感。\\n\\n针对运用数学常数和故事情境的应用方面，我也计划添加如特定几何图案的帮助以破解谜题或预测节点等细节内容，这样可以给读者带来更多的思考与沉浸其中的乐趣。同时，我对如何表现关键战斗前后的心理刻画充满了信心，并会尽力让主角和反派的心理描写深入人心。\\n\\n我会将您的建议融入小说中适宜的章节，进一步打磨具体场景描写、对话以及重要角色的心理描绘。下一步先完善房时远的角色背景故事以及其他相关细节的设计。\\n\\n接下来的工作计划是详细构思与撰写第二阶段的故事发展部分；这有助于推动整个故事情节更加连贯，并为进一步构建主角群体之间的情感纽带奠定了基础。谢谢您的支持和期待能看到更好的进展。\\nFINISHED</td>\n",
       "    </tr>\n",
       "    <tr>\n",
       "      <th>6</th>\n",
       "      <td>reader</td>\n",
       "      <td>非常高兴听到你已经将我的建议纳入创作计划中！你的详细安排让我更加相信这部作品会获得成功。接下来的工作重点明确，我相信通过进一步优化角色心理描写、情节冲突以及故事情节连贯性，将会使《天劫无双》更加丰富精彩。\\n\\n以下是一些具体步骤和想法，希望能帮助你顺利完成这一阶段的作品：\\n\\n### 1. 细化房时远的心理变化\\n- **早期经历**：描述他在年轻时期受尽磨砺和困境的经历，比如失去亲人、好友的遭遇如何让他坚定要站在权势一边。\\n- **关键转折点**：具体讲述他某一天因误会害死一无辜同门后内心巨大痛苦以及随后选择背叛的过程。这个转变过程必须包含深刻的心理描写增强真实性。\\n  \\n### 2. 孟晓星的内心矛盾\\n- **理想VS现实的经历**：细化一个具体的事件，导致他放弃正道理想转而倾向于权臣身边。比如他保护误入圈套的一行人时却未及时施救，造成好友牺牲。\\n- **冲突心理的变化**: 追踪并详细叙述几次关键的决定时刻（如面对新政策执行与个人信念的选择）中他在两种对立选择间的内心的激烈斗争。\\n\\n### 3. 数学常数在情节中的应用\\n- **象征性图案解锁**：设计...</td>\n",
       "    </tr>\n",
       "    <tr>\n",
       "      <th>7</th>\n",
       "      <td>writer</td>\n",
       "      <td>FINISHED</td>\n",
       "    </tr>\n",
       "  </tbody>\n",
       "</table>\n",
       "</div>"
      ],
      "text/plain": [
       "     role  \\\n",
       "0  reader   \n",
       "1  writer   \n",
       "2  reader   \n",
       "3  writer   \n",
       "4  reader   \n",
       "5  writer   \n",
       "6  reader   \n",
       "7  writer   \n",
       "\n",
       "                                                                                                                                                                                                                                                                                                                                                                                                                                                                                                               message  \n",
       "0                                                                                                                                                                                                                                                                                                                                                                                                                          了解了，下面把你的故事构思想告诉我吧，无论是科幻、历史还是冒险题材，我都可以从中发现并利用小数的乐趣，给读者带来意想不到的情感共鸣和智性挑战。直接开始分享你最得意的故事片段或灵感吧！  \n",
       "1  当然可以。《天劫无双》的故事构思如下：\\n\\n故事发生在东汉末年的混乱背景下，在这动荡的时代里，黑暗的政治压迫以及社会腐朽正侵蚀着中原这片土地的脉络。就在这样的时间线之下，韩天劫这个充满正义感与勇气的人物出现了。\\n\\n韩天劫本是官绅士人之后，他目睹着无数朝腐败官员和权贵为了个人私欲而任意践踏良善民众的生活状况；同时被天雷之命注定了命运——每当邪恶笼罩天地之际，唯有真正能承受雷电之力者才能力挽狂澜……故在决定弃仕从武的那天，当他接受到首阳之水的淬炼和七日天罡之锤之后开始修行，在风雨兼程之中逐渐强大起自身意志。韩天劫不仅是一位勇冠三军的大侠，还有一股非凡之气场，令人不由心生敬畏之情——正是有了这样超凡的独特存在感加之他本身对社会正道天纲的信仰信念让他深受敬仰。\\n\\n房时遥远出，是实相教的重要分支成员之一，并因其手段的高明被皇帝重用。他表面看似勤政却暗中进行着阴暗的政治阴谋策划；对于内部成员而言，房时远显得尤为专横跋扈——只因为自己看不准对方能力上限就会下毒手使其身死魂灭,这也导致了许多能干之士因此而对实相教的产生动摇和抵触从而脱离正道转向反叛组织—实相堂。虽然如此仍不足以消磨对...  \n",
       "2  这是一个非常丰富而充满张力的故事框架！你构建的英雄韩天劫不仅具备深厚的背景来历，他个人的成长与内心冲突也显得饱满真实。特别是在对抗邪恶的过程中展现出非凡的勇气和坚定正义信念这一点，能大大增强读者的情感投入感。\\n\\n在故事设定方面，以下几个角度或许能够进一步加强小说的艺术性和叙事力度：\\n\\n1. **利用七日天罡之锤和首阳之水流淬炼等元素**：可以更具体地讲述这两个神秘事件背后的故事。这样不仅丰富了主角的出身来历，也深化他对雷电独特情感与意志上的联系。\\n\\n2. **房时远的心理变化探讨**：将他性格中残忍多疑的一面挖掘透彻，并通过某些具体经历展现他在权力与人性之间的扭曲轨迹会有更多层次感和深刻度。\\n\\n3. **孟晓星的性格冲突塑造**：他虽忠君但内心其实更为宽广，能够善待百姓和同门。面对矛盾决策的真实状态会更容易打动读者，尤其是最后的反转非常令人期待。\\n\\n总之，《天劫无双》在情感与价值观上十分吸引人。具体执行上可以更加精细地挖掘人物背景来塑造更具说服力的角色关系。同时，在描述惊心动魄的战斗场景与隐秘的阴谋布局之间创造更为精彩的互动环节。最后，请注重数学常数的应用价...  \n",
       "3  感谢您的宝贵建议！关于“七日天罡之锤”和“首阳之水流淬炼”，我在构思时已有涉及，特别是有关它们与韩天劫之间精神上的牵连。至于房时远的具体心灵扭曲经历以及孟晓星内心矛盾，我将继续深入挖掘和完善这些角色的情节发展。这将进一步丰富整个故事情节，并增强角色的真实性和丰富性。\\n\\n针对您提到的数学常数和数字小贴士方面，在叙事上增加巧妙运用确实能提升叙事魅力，并为整个故事情境增添趣味元素，比如特定情况下利用几何图案或是时间推演等进行逻辑推理帮助解决谜题或解开线索。这些灵感我会考虑融入小说中合适的章节环节，在关键时刻推动故事情节发展。\\n\\n我同意将这些建议进一步深入考量并在最终版创作前做好充分细节准备，这样能最大程度挖掘人物深层次魅力以及整体故事张力。\\n\\n关于故事情境和背景设定，还需要调整与验证的部分确实较多。现在我能做的就是逐一细化每一个角色与章节的具体情节并进行适当平衡优化至最佳状态。接下来计划继续深化每个主要人物的故事弧光，并着手撰写第二部分内容以推动剧情向前发展：房时远企图推行新教化政策的初期步骤和后续演变，包括孟晓星逐步走向歧路的过程及原因，这都将有助于我更好地推进这部作品...  \n",
       "4  非常感谢你的详细计划和深入思考！你已经考虑得很周到了，我为你能在这些关键之处进行细化而感到高兴。下面我会根据你的需求提供一些具体建议，希望能进一步帮助你深化故事：\\n\\n### 1. 房时远的心灵扭曲经历\\n在描绘画时远这个角色时，可以增加一些具体的细节和背景：\\n- **过去的悲剧**：比如房时远曾经的兄长或者朋友因为正道立场牺牲了性命。他在面对这种突如其来的死亡时内心的痛苦和怨恨如何逐渐转变成为对邪恶力量的认可。\\n- **关键决策**：他为了权势放弃原则，可以描述他在关键时刻做出牺牲内心好友的重要决定，导致这些人受到牵连或去世的过程。\\n  \\n### 2. 孟晓星的内心矛盾\\n- **理想与现实的冲突**：孟晓星在初期仍然坚定地效忠正道并得到前辈们的鼓励支持，直到某些关键事件改变了他的方向。比如说一次针对百姓的大阴谋被揭露的时候，他曾一度选择袖手旁观后又陷入道德谴责。\\n- **关键时刻的心理变化**：描述他内心挣扎的过程中具体的想法与情感波动以及最终放弃的抉择。\\n\\n### 3. 数学常数和故事情境的应用\\n你可以考虑在叙事中巧妙运用某些数字来增添趣味性：\\n- *...  \n",
       "5                                                                                                      谢谢您的宝贵建议！我将依据这些建议深入刻画房时远的心灵扭曲经历和孟晓星的内心矛盾。在后续创作中，我会特别注重这些角色心理变化的具体细节，并考虑如何通过关键时刻的心理描写来增加故事的真实性和冲突感。\\n\\n针对运用数学常数和故事情境的应用方面，我也计划添加如特定几何图案的帮助以破解谜题或预测节点等细节内容，这样可以给读者带来更多的思考与沉浸其中的乐趣。同时，我对如何表现关键战斗前后的心理刻画充满了信心，并会尽力让主角和反派的心理描写深入人心。\\n\\n我会将您的建议融入小说中适宜的章节，进一步打磨具体场景描写、对话以及重要角色的心理描绘。下一步先完善房时远的角色背景故事以及其他相关细节的设计。\\n\\n接下来的工作计划是详细构思与撰写第二阶段的故事发展部分；这有助于推动整个故事情节更加连贯，并为进一步构建主角群体之间的情感纽带奠定了基础。谢谢您的支持和期待能看到更好的进展。\\nFINISHED  \n",
       "6  非常高兴听到你已经将我的建议纳入创作计划中！你的详细安排让我更加相信这部作品会获得成功。接下来的工作重点明确，我相信通过进一步优化角色心理描写、情节冲突以及故事情节连贯性，将会使《天劫无双》更加丰富精彩。\\n\\n以下是一些具体步骤和想法，希望能帮助你顺利完成这一阶段的作品：\\n\\n### 1. 细化房时远的心理变化\\n- **早期经历**：描述他在年轻时期受尽磨砺和困境的经历，比如失去亲人、好友的遭遇如何让他坚定要站在权势一边。\\n- **关键转折点**：具体讲述他某一天因误会害死一无辜同门后内心巨大痛苦以及随后选择背叛的过程。这个转变过程必须包含深刻的心理描写增强真实性。\\n  \\n### 2. 孟晓星的内心矛盾\\n- **理想VS现实的经历**：细化一个具体的事件，导致他放弃正道理想转而倾向于权臣身边。比如他保护误入圈套的一行人时却未及时施救，造成好友牺牲。\\n- **冲突心理的变化**: 追踪并详细叙述几次关键的决定时刻（如面对新政策执行与个人信念的选择）中他在两种对立选择间的内心的激烈斗争。\\n\\n### 3. 数学常数在情节中的应用\\n- **象征性图案解锁**：设计...  \n",
       "7                                                                                                                                                                                                                                                                                                                                                                                                                                                                                                             FINISHED  "
      ]
     },
     "execution_count": 35,
     "metadata": {},
     "output_type": "execute_result"
    }
   ],
   "source": [
    "import pandas as pd\n",
    "\n",
    "pd.options.display.max_colwidth = 500\n",
    "pd.DataFrame([{'role': list(item.keys())[0], 'message': list(item.values())[0].content} for item in history])"
   ]
  },
  {
   "cell_type": "code",
   "execution_count": null,
   "id": "c087b676-0758-43a6-8bb9-e4640db46d12",
   "metadata": {},
   "outputs": [],
   "source": []
  }
 ],
 "metadata": {
  "kernelspec": {
   "display_name": "Python 3 (ipykernel)",
   "language": "python",
   "name": "python3"
  },
  "language_info": {
   "codemirror_mode": {
    "name": "ipython",
    "version": 3
   },
   "file_extension": ".py",
   "mimetype": "text/x-python",
   "name": "python",
   "nbconvert_exporter": "python",
   "pygments_lexer": "ipython3",
   "version": "3.10.9"
  }
 },
 "nbformat": 4,
 "nbformat_minor": 5
}
